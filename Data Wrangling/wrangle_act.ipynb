{
 "cells": [
  {
   "cell_type": "markdown",
   "metadata": {
    "extensions": {
     "jupyter_dashboards": {
      "version": 1,
      "views": {
       "grid_default": {
        "col": 0,
        "height": 4,
        "hidden": false,
        "row": 0,
        "width": 4
       },
       "report_default": {
        "hidden": false
       }
      }
     }
    }
   },
   "source": [
    "# Project: Wrangling and Analyze Data"
   ]
  },
  {
   "cell_type": "markdown",
   "metadata": {},
   "source": [
    "## 1. Data Gathering\n",
    "Data is gathered from different sources related to @dogrates, a twitter account that post pictures of dogs and rates them in a funny manner. Data wrangling techniques learnt during the 2nd phase of the course will be used to wrangle @dogrates twitter actiivity. My aim is to wrangle this data for reliable analyses and visualization.\n",
    "\n",
    "There are three data sources for this project; The WeRateDogs Twitter archive provided by Udacity. This contains basic tweet data for all 5000+ of their tweets, but not everything I need, The tweet image predictions and Additional Data via the Twitter API like tweet_ID, retweet etc.\n",
    "1. Directly download the WeRateDogs Twitter archive data (twitter_archive_enhanced.csv)"
   ]
  },
  {
   "cell_type": "code",
   "execution_count": 1,
   "metadata": {
    "extensions": {
     "jupyter_dashboards": {
      "version": 1,
      "views": {
       "grid_default": {
        "hidden": true
       },
       "report_default": {
        "hidden": true
       }
      }
     }
    }
   },
   "outputs": [],
   "source": [
    "import pandas as pd\n",
    "import numpy as np\n",
    "import tweepy as tw\n",
    "import requests\n",
    "import json\n",
    "import os\n",
    "import re\n",
    "import matplotlib.pyplot as plt\n",
    "import seaborn as sns\n",
    "import warnings\n",
    "%matplotlib inline"
   ]
  },
  {
   "cell_type": "code",
   "execution_count": 2,
   "metadata": {},
   "outputs": [],
   "source": [
    "#reading in the csv as a pandas dataframe\n",
    "dog_rates_archive = pd.read_csv('twitter-archive-enhanced.csv', sep = ',')"
   ]
  },
  {
   "cell_type": "markdown",
   "metadata": {},
   "source": [
    "2. Use the Requests library to download the tweet image prediction (image_predictions.tsv)"
   ]
  },
  {
   "cell_type": "code",
   "execution_count": 3,
   "metadata": {},
   "outputs": [],
   "source": [
    "#download image_predictions.tsv from udacity programmatically using the Requests library\n",
    "url = 'https://d17h27t6h515a5.cloudfront.net/topher/2017/August/599fd2ad_image-predictions/image-predictions.tsv'\n",
    "response = requests.get(url)\n",
    "\n",
    "#create file\n",
    "with open(os.path.join(url.split('/')[-1]), mode='wb') as file:\n",
    "        file.write(response.content)\n",
    "        \n",
    "#Import the tweet image predictions TSV file into a DataFrame\n",
    "img_predictions = pd.read_csv('image-predictions.tsv', sep='\\t')"
   ]
  },
  {
   "cell_type": "markdown",
   "metadata": {},
   "source": [
    "3. Use the Tweepy library to query additional data via the Twitter API (tweet_json.txt)"
   ]
  },
  {
   "cell_type": "code",
   "execution_count": 4,
   "metadata": {},
   "outputs": [],
   "source": [
    "import tweepy\n",
    "from tweepy import OAuthHandler\n",
    "import json\n",
    "from timeit import default_timer as timer\n",
    "\n",
    "# Query Twitter API for each tweet in the Twitter archive and save JSON in a text file\n",
    "# These are hidden to comply with Twitter's API terms and conditions\n",
    "consumer_key = 'HIDDEN'\n",
    "consumer_secret = 'HIDDEN'\n",
    "access_token = 'HIDDEN'\n",
    "access_secret = 'HIDDEN'\n",
    "\n",
    "auth = OAuthHandler(consumer_key, consumer_secret)\n",
    "auth.set_access_token(access_token, access_secret)\n",
    "\n",
    "api = tweepy.API(auth, wait_on_rate_limit=True)"
   ]
  },
  {
   "cell_type": "code",
   "execution_count": 5,
   "metadata": {},
   "outputs": [],
   "source": [
    "start = timer()\n",
    "with open('tweet_json.txt', 'w') as outfile:\n",
    "    for tweet_id in dog_rates_archive.tweet_id:\n",
    "        try:\n",
    "            tweet = api.get_status(tweet_id, tweet_mode='extended')\n",
    "            json.dump(tweet._json, outfile)\n",
    "            outfile.write('\\n')\n",
    "        except: continue"
   ]
  },
  {
   "cell_type": "code",
   "execution_count": 6,
   "metadata": {},
   "outputs": [],
   "source": [
    "# creating a dataframe from the tweet_json.txt file\n",
    "df = []\n",
    "with open('tweet-json.txt') as f:\n",
    "    for line in f:\n",
    "        tweet = (json.loads(line))\n",
    "        tweet_id = tweet['id']\n",
    "        retweet_count = tweet['retweet_count']\n",
    "        favorite_count = tweet['favorite_count']\n",
    "        create_date = tweet['created_at']\n",
    "        df.append({'retweet_count' : retweet_count,\n",
    "                  'favorite_count' : favorite_count,\n",
    "                  'create_date' : create_date,\n",
    "                  'tweet_id' : tweet_id})\n",
    "        \n",
    "# Convert the list of dictionaries to a pandas DataFrame\n",
    "tweets = pd.DataFrame(df, columns = ['tweet_id', 'retweet_count', 'favorite_count', 'create_date'])"
   ]
  },
  {
   "cell_type": "markdown",
   "metadata": {
    "extensions": {
     "jupyter_dashboards": {
      "version": 1,
      "views": {
       "grid_default": {
        "col": 4,
        "height": 4,
        "hidden": false,
        "row": 28,
        "width": 4
       },
       "report_default": {
        "hidden": false
       }
      }
     }
    }
   },
   "source": [
    "## Assessing Data\n",
    "In this section, I am going to assess the dataset visually and programmatically to detect its tidiness, quality and structure. Any discrepancy noticed will be noted down so I can clean them for accuracy."
   ]
  },
  {
   "cell_type": "markdown",
   "metadata": {},
   "source": [
    "##### A. Visual Assessment: Each piece of gathered data is displayed in the Jupyter Notebook for visual assessment."
   ]
  },
  {
   "cell_type": "code",
   "execution_count": 7,
   "metadata": {},
   "outputs": [
    {
     "data": {
      "text/plain": [
       "<bound method NDFrame.head of                 tweet_id  in_reply_to_status_id  in_reply_to_user_id  \\\n",
       "0     892420643555336193                    NaN                  NaN   \n",
       "1     892177421306343426                    NaN                  NaN   \n",
       "2     891815181378084864                    NaN                  NaN   \n",
       "3     891689557279858688                    NaN                  NaN   \n",
       "4     891327558926688256                    NaN                  NaN   \n",
       "5     891087950875897856                    NaN                  NaN   \n",
       "6     890971913173991426                    NaN                  NaN   \n",
       "7     890729181411237888                    NaN                  NaN   \n",
       "8     890609185150312448                    NaN                  NaN   \n",
       "9     890240255349198849                    NaN                  NaN   \n",
       "10    890006608113172480                    NaN                  NaN   \n",
       "11    889880896479866881                    NaN                  NaN   \n",
       "12    889665388333682689                    NaN                  NaN   \n",
       "13    889638837579907072                    NaN                  NaN   \n",
       "14    889531135344209921                    NaN                  NaN   \n",
       "15    889278841981685760                    NaN                  NaN   \n",
       "16    888917238123831296                    NaN                  NaN   \n",
       "17    888804989199671297                    NaN                  NaN   \n",
       "18    888554962724278272                    NaN                  NaN   \n",
       "19    888202515573088257                    NaN                  NaN   \n",
       "20    888078434458587136                    NaN                  NaN   \n",
       "21    887705289381826560                    NaN                  NaN   \n",
       "22    887517139158093824                    NaN                  NaN   \n",
       "23    887473957103951883                    NaN                  NaN   \n",
       "24    887343217045368832                    NaN                  NaN   \n",
       "25    887101392804085760                    NaN                  NaN   \n",
       "26    886983233522544640                    NaN                  NaN   \n",
       "27    886736880519319552                    NaN                  NaN   \n",
       "28    886680336477933568                    NaN                  NaN   \n",
       "29    886366144734445568                    NaN                  NaN   \n",
       "...                  ...                    ...                  ...   \n",
       "2326  666411507551481857                    NaN                  NaN   \n",
       "2327  666407126856765440                    NaN                  NaN   \n",
       "2328  666396247373291520                    NaN                  NaN   \n",
       "2329  666373753744588802                    NaN                  NaN   \n",
       "2330  666362758909284353                    NaN                  NaN   \n",
       "2331  666353288456101888                    NaN                  NaN   \n",
       "2332  666345417576210432                    NaN                  NaN   \n",
       "2333  666337882303524864                    NaN                  NaN   \n",
       "2334  666293911632134144                    NaN                  NaN   \n",
       "2335  666287406224695296                    NaN                  NaN   \n",
       "2336  666273097616637952                    NaN                  NaN   \n",
       "2337  666268910803644416                    NaN                  NaN   \n",
       "2338  666104133288665088                    NaN                  NaN   \n",
       "2339  666102155909144576                    NaN                  NaN   \n",
       "2340  666099513787052032                    NaN                  NaN   \n",
       "2341  666094000022159362                    NaN                  NaN   \n",
       "2342  666082916733198337                    NaN                  NaN   \n",
       "2343  666073100786774016                    NaN                  NaN   \n",
       "2344  666071193221509120                    NaN                  NaN   \n",
       "2345  666063827256086533                    NaN                  NaN   \n",
       "2346  666058600524156928                    NaN                  NaN   \n",
       "2347  666057090499244032                    NaN                  NaN   \n",
       "2348  666055525042405380                    NaN                  NaN   \n",
       "2349  666051853826850816                    NaN                  NaN   \n",
       "2350  666050758794694657                    NaN                  NaN   \n",
       "2351  666049248165822465                    NaN                  NaN   \n",
       "2352  666044226329800704                    NaN                  NaN   \n",
       "2353  666033412701032449                    NaN                  NaN   \n",
       "2354  666029285002620928                    NaN                  NaN   \n",
       "2355  666020888022790149                    NaN                  NaN   \n",
       "\n",
       "                      timestamp  \\\n",
       "0     2017-08-01 16:23:56 +0000   \n",
       "1     2017-08-01 00:17:27 +0000   \n",
       "2     2017-07-31 00:18:03 +0000   \n",
       "3     2017-07-30 15:58:51 +0000   \n",
       "4     2017-07-29 16:00:24 +0000   \n",
       "5     2017-07-29 00:08:17 +0000   \n",
       "6     2017-07-28 16:27:12 +0000   \n",
       "7     2017-07-28 00:22:40 +0000   \n",
       "8     2017-07-27 16:25:51 +0000   \n",
       "9     2017-07-26 15:59:51 +0000   \n",
       "10    2017-07-26 00:31:25 +0000   \n",
       "11    2017-07-25 16:11:53 +0000   \n",
       "12    2017-07-25 01:55:32 +0000   \n",
       "13    2017-07-25 00:10:02 +0000   \n",
       "14    2017-07-24 17:02:04 +0000   \n",
       "15    2017-07-24 00:19:32 +0000   \n",
       "16    2017-07-23 00:22:39 +0000   \n",
       "17    2017-07-22 16:56:37 +0000   \n",
       "18    2017-07-22 00:23:06 +0000   \n",
       "19    2017-07-21 01:02:36 +0000   \n",
       "20    2017-07-20 16:49:33 +0000   \n",
       "21    2017-07-19 16:06:48 +0000   \n",
       "22    2017-07-19 03:39:09 +0000   \n",
       "23    2017-07-19 00:47:34 +0000   \n",
       "24    2017-07-18 16:08:03 +0000   \n",
       "25    2017-07-18 00:07:08 +0000   \n",
       "26    2017-07-17 16:17:36 +0000   \n",
       "27    2017-07-16 23:58:41 +0000   \n",
       "28    2017-07-16 20:14:00 +0000   \n",
       "29    2017-07-15 23:25:31 +0000   \n",
       "...                         ...   \n",
       "2326  2015-11-17 00:24:19 +0000   \n",
       "2327  2015-11-17 00:06:54 +0000   \n",
       "2328  2015-11-16 23:23:41 +0000   \n",
       "2329  2015-11-16 21:54:18 +0000   \n",
       "2330  2015-11-16 21:10:36 +0000   \n",
       "2331  2015-11-16 20:32:58 +0000   \n",
       "2332  2015-11-16 20:01:42 +0000   \n",
       "2333  2015-11-16 19:31:45 +0000   \n",
       "2334  2015-11-16 16:37:02 +0000   \n",
       "2335  2015-11-16 16:11:11 +0000   \n",
       "2336  2015-11-16 15:14:19 +0000   \n",
       "2337  2015-11-16 14:57:41 +0000   \n",
       "2338  2015-11-16 04:02:55 +0000   \n",
       "2339  2015-11-16 03:55:04 +0000   \n",
       "2340  2015-11-16 03:44:34 +0000   \n",
       "2341  2015-11-16 03:22:39 +0000   \n",
       "2342  2015-11-16 02:38:37 +0000   \n",
       "2343  2015-11-16 01:59:36 +0000   \n",
       "2344  2015-11-16 01:52:02 +0000   \n",
       "2345  2015-11-16 01:22:45 +0000   \n",
       "2346  2015-11-16 01:01:59 +0000   \n",
       "2347  2015-11-16 00:55:59 +0000   \n",
       "2348  2015-11-16 00:49:46 +0000   \n",
       "2349  2015-11-16 00:35:11 +0000   \n",
       "2350  2015-11-16 00:30:50 +0000   \n",
       "2351  2015-11-16 00:24:50 +0000   \n",
       "2352  2015-11-16 00:04:52 +0000   \n",
       "2353  2015-11-15 23:21:54 +0000   \n",
       "2354  2015-11-15 23:05:30 +0000   \n",
       "2355  2015-11-15 22:32:08 +0000   \n",
       "\n",
       "                                                 source  \\\n",
       "0     <a href=\"http://twitter.com/download/iphone\" r...   \n",
       "1     <a href=\"http://twitter.com/download/iphone\" r...   \n",
       "2     <a href=\"http://twitter.com/download/iphone\" r...   \n",
       "3     <a href=\"http://twitter.com/download/iphone\" r...   \n",
       "4     <a href=\"http://twitter.com/download/iphone\" r...   \n",
       "5     <a href=\"http://twitter.com/download/iphone\" r...   \n",
       "6     <a href=\"http://twitter.com/download/iphone\" r...   \n",
       "7     <a href=\"http://twitter.com/download/iphone\" r...   \n",
       "8     <a href=\"http://twitter.com/download/iphone\" r...   \n",
       "9     <a href=\"http://twitter.com/download/iphone\" r...   \n",
       "10    <a href=\"http://twitter.com/download/iphone\" r...   \n",
       "11    <a href=\"http://twitter.com/download/iphone\" r...   \n",
       "12    <a href=\"http://twitter.com/download/iphone\" r...   \n",
       "13    <a href=\"http://twitter.com/download/iphone\" r...   \n",
       "14    <a href=\"http://twitter.com/download/iphone\" r...   \n",
       "15    <a href=\"http://twitter.com/download/iphone\" r...   \n",
       "16    <a href=\"http://twitter.com/download/iphone\" r...   \n",
       "17    <a href=\"http://twitter.com/download/iphone\" r...   \n",
       "18    <a href=\"http://twitter.com/download/iphone\" r...   \n",
       "19    <a href=\"http://twitter.com/download/iphone\" r...   \n",
       "20    <a href=\"http://twitter.com/download/iphone\" r...   \n",
       "21    <a href=\"http://twitter.com/download/iphone\" r...   \n",
       "22    <a href=\"http://twitter.com/download/iphone\" r...   \n",
       "23    <a href=\"http://twitter.com/download/iphone\" r...   \n",
       "24    <a href=\"http://twitter.com/download/iphone\" r...   \n",
       "25    <a href=\"http://twitter.com/download/iphone\" r...   \n",
       "26    <a href=\"http://twitter.com/download/iphone\" r...   \n",
       "27    <a href=\"http://twitter.com/download/iphone\" r...   \n",
       "28    <a href=\"http://twitter.com/download/iphone\" r...   \n",
       "29    <a href=\"http://twitter.com/download/iphone\" r...   \n",
       "...                                                 ...   \n",
       "2326  <a href=\"http://twitter.com/download/iphone\" r...   \n",
       "2327  <a href=\"http://twitter.com/download/iphone\" r...   \n",
       "2328  <a href=\"http://twitter.com/download/iphone\" r...   \n",
       "2329  <a href=\"http://twitter.com/download/iphone\" r...   \n",
       "2330  <a href=\"http://twitter.com/download/iphone\" r...   \n",
       "2331  <a href=\"http://twitter.com/download/iphone\" r...   \n",
       "2332  <a href=\"http://twitter.com/download/iphone\" r...   \n",
       "2333  <a href=\"http://twitter.com/download/iphone\" r...   \n",
       "2334  <a href=\"http://twitter.com/download/iphone\" r...   \n",
       "2335  <a href=\"http://twitter.com/download/iphone\" r...   \n",
       "2336  <a href=\"http://twitter.com/download/iphone\" r...   \n",
       "2337  <a href=\"http://twitter.com/download/iphone\" r...   \n",
       "2338  <a href=\"http://twitter.com/download/iphone\" r...   \n",
       "2339  <a href=\"http://twitter.com/download/iphone\" r...   \n",
       "2340  <a href=\"http://twitter.com/download/iphone\" r...   \n",
       "2341  <a href=\"http://twitter.com/download/iphone\" r...   \n",
       "2342  <a href=\"http://twitter.com/download/iphone\" r...   \n",
       "2343  <a href=\"http://twitter.com/download/iphone\" r...   \n",
       "2344  <a href=\"http://twitter.com/download/iphone\" r...   \n",
       "2345  <a href=\"http://twitter.com/download/iphone\" r...   \n",
       "2346  <a href=\"http://twitter.com/download/iphone\" r...   \n",
       "2347  <a href=\"http://twitter.com/download/iphone\" r...   \n",
       "2348  <a href=\"http://twitter.com/download/iphone\" r...   \n",
       "2349  <a href=\"http://twitter.com/download/iphone\" r...   \n",
       "2350  <a href=\"http://twitter.com/download/iphone\" r...   \n",
       "2351  <a href=\"http://twitter.com/download/iphone\" r...   \n",
       "2352  <a href=\"http://twitter.com/download/iphone\" r...   \n",
       "2353  <a href=\"http://twitter.com/download/iphone\" r...   \n",
       "2354  <a href=\"http://twitter.com/download/iphone\" r...   \n",
       "2355  <a href=\"http://twitter.com/download/iphone\" r...   \n",
       "\n",
       "                                                   text  retweeted_status_id  \\\n",
       "0     This is Phineas. He's a mystical boy. Only eve...                  NaN   \n",
       "1     This is Tilly. She's just checking pup on you....                  NaN   \n",
       "2     This is Archie. He is a rare Norwegian Pouncin...                  NaN   \n",
       "3     This is Darla. She commenced a snooze mid meal...                  NaN   \n",
       "4     This is Franklin. He would like you to stop ca...                  NaN   \n",
       "5     Here we have a majestic great white breaching ...                  NaN   \n",
       "6     Meet Jax. He enjoys ice cream so much he gets ...                  NaN   \n",
       "7     When you watch your owner call another dog a g...                  NaN   \n",
       "8     This is Zoey. She doesn't want to be one of th...                  NaN   \n",
       "9     This is Cassie. She is a college pup. Studying...                  NaN   \n",
       "10    This is Koda. He is a South Australian decksha...                  NaN   \n",
       "11    This is Bruno. He is a service shark. Only get...                  NaN   \n",
       "12    Here's a puppo that seems to be on the fence a...                  NaN   \n",
       "13    This is Ted. He does his best. Sometimes that'...                  NaN   \n",
       "14    This is Stuart. He's sporting his favorite fan...                  NaN   \n",
       "15    This is Oliver. You're witnessing one of his m...                  NaN   \n",
       "16    This is Jim. He found a fren. Taught him how t...                  NaN   \n",
       "17    This is Zeke. He has a new stick. Very proud o...                  NaN   \n",
       "18    This is Ralphus. He's powering up. Attempting ...                  NaN   \n",
       "19    RT @dog_rates: This is Canela. She attempted s...         8.874740e+17   \n",
       "20    This is Gerald. He was just told he didn't get...                  NaN   \n",
       "21    This is Jeffrey. He has a monopoly on the pool...                  NaN   \n",
       "22    I've yet to rate a Venezuelan Hover Wiener. Th...                  NaN   \n",
       "23    This is Canela. She attempted some fancy porch...                  NaN   \n",
       "24    You may not have known you needed to see this ...                  NaN   \n",
       "25    This... is a Jubilant Antarctic House Bear. We...                  NaN   \n",
       "26    This is Maya. She's very shy. Rarely leaves he...                  NaN   \n",
       "27    This is Mingus. He's a wonderful father to his...                  NaN   \n",
       "28    This is Derek. He's late for a dog meeting. 13...                  NaN   \n",
       "29    This is Roscoe. Another pupper fallen victim t...                  NaN   \n",
       "...                                                 ...                  ...   \n",
       "2326  This is quite the dog. Gets really excited whe...                  NaN   \n",
       "2327  This is a southern Vesuvius bumblegruff. Can d...                  NaN   \n",
       "2328  Oh goodness. A super rare northeast Qdoba kang...                  NaN   \n",
       "2329  Those are sunglasses and a jean jacket. 11/10 ...                  NaN   \n",
       "2330  Unique dog here. Very small. Lives in containe...                  NaN   \n",
       "2331  Here we have a mixed Asiago from the Galápagos...                  NaN   \n",
       "2332  Look at this jokester thinking seat belt laws ...                  NaN   \n",
       "2333  This is an extremely rare horned Parthenon. No...                  NaN   \n",
       "2334  This is a funny dog. Weird toes. Won't come do...                  NaN   \n",
       "2335  This is an Albanian 3 1/2 legged  Episcopalian...                  NaN   \n",
       "2336     Can take selfies 11/10 https://t.co/ws2AMaNwPW                  NaN   \n",
       "2337  Very concerned about fellow dog trapped in com...                  NaN   \n",
       "2338  Not familiar with this breed. No tail (weird)....                  NaN   \n",
       "2339  Oh my. Here you are seeing an Adobe Setter giv...                  NaN   \n",
       "2340  Can stand on stump for what seems like a while...                  NaN   \n",
       "2341  This appears to be a Mongolian Presbyterian mi...                  NaN   \n",
       "2342  Here we have a well-established sunblockerspan...                  NaN   \n",
       "2343  Let's hope this flight isn't Malaysian (lol). ...                  NaN   \n",
       "2344  Here we have a northern speckled Rhododendron....                  NaN   \n",
       "2345  This is the happiest dog you will ever see. Ve...                  NaN   \n",
       "2346  Here is the Rand Paul of retrievers folks! He'...                  NaN   \n",
       "2347  My oh my. This is a rare blond Canadian terrie...                  NaN   \n",
       "2348  Here is a Siberian heavily armored polar bear ...                  NaN   \n",
       "2349  This is an odd dog. Hard on the outside but lo...                  NaN   \n",
       "2350  This is a truly beautiful English Wilson Staff...                  NaN   \n",
       "2351  Here we have a 1949 1st generation vulpix. Enj...                  NaN   \n",
       "2352  This is a purebred Piers Morgan. Loves to Netf...                  NaN   \n",
       "2353  Here is a very happy pup. Big fan of well-main...                  NaN   \n",
       "2354  This is a western brown Mitsubishi terrier. Up...                  NaN   \n",
       "2355  Here we have a Japanese Irish Setter. Lost eye...                  NaN   \n",
       "\n",
       "      retweeted_status_user_id retweeted_status_timestamp  \\\n",
       "0                          NaN                        NaN   \n",
       "1                          NaN                        NaN   \n",
       "2                          NaN                        NaN   \n",
       "3                          NaN                        NaN   \n",
       "4                          NaN                        NaN   \n",
       "5                          NaN                        NaN   \n",
       "6                          NaN                        NaN   \n",
       "7                          NaN                        NaN   \n",
       "8                          NaN                        NaN   \n",
       "9                          NaN                        NaN   \n",
       "10                         NaN                        NaN   \n",
       "11                         NaN                        NaN   \n",
       "12                         NaN                        NaN   \n",
       "13                         NaN                        NaN   \n",
       "14                         NaN                        NaN   \n",
       "15                         NaN                        NaN   \n",
       "16                         NaN                        NaN   \n",
       "17                         NaN                        NaN   \n",
       "18                         NaN                        NaN   \n",
       "19                4.196984e+09  2017-07-19 00:47:34 +0000   \n",
       "20                         NaN                        NaN   \n",
       "21                         NaN                        NaN   \n",
       "22                         NaN                        NaN   \n",
       "23                         NaN                        NaN   \n",
       "24                         NaN                        NaN   \n",
       "25                         NaN                        NaN   \n",
       "26                         NaN                        NaN   \n",
       "27                         NaN                        NaN   \n",
       "28                         NaN                        NaN   \n",
       "29                         NaN                        NaN   \n",
       "...                        ...                        ...   \n",
       "2326                       NaN                        NaN   \n",
       "2327                       NaN                        NaN   \n",
       "2328                       NaN                        NaN   \n",
       "2329                       NaN                        NaN   \n",
       "2330                       NaN                        NaN   \n",
       "2331                       NaN                        NaN   \n",
       "2332                       NaN                        NaN   \n",
       "2333                       NaN                        NaN   \n",
       "2334                       NaN                        NaN   \n",
       "2335                       NaN                        NaN   \n",
       "2336                       NaN                        NaN   \n",
       "2337                       NaN                        NaN   \n",
       "2338                       NaN                        NaN   \n",
       "2339                       NaN                        NaN   \n",
       "2340                       NaN                        NaN   \n",
       "2341                       NaN                        NaN   \n",
       "2342                       NaN                        NaN   \n",
       "2343                       NaN                        NaN   \n",
       "2344                       NaN                        NaN   \n",
       "2345                       NaN                        NaN   \n",
       "2346                       NaN                        NaN   \n",
       "2347                       NaN                        NaN   \n",
       "2348                       NaN                        NaN   \n",
       "2349                       NaN                        NaN   \n",
       "2350                       NaN                        NaN   \n",
       "2351                       NaN                        NaN   \n",
       "2352                       NaN                        NaN   \n",
       "2353                       NaN                        NaN   \n",
       "2354                       NaN                        NaN   \n",
       "2355                       NaN                        NaN   \n",
       "\n",
       "                                          expanded_urls  rating_numerator  \\\n",
       "0     https://twitter.com/dog_rates/status/892420643...                13   \n",
       "1     https://twitter.com/dog_rates/status/892177421...                13   \n",
       "2     https://twitter.com/dog_rates/status/891815181...                12   \n",
       "3     https://twitter.com/dog_rates/status/891689557...                13   \n",
       "4     https://twitter.com/dog_rates/status/891327558...                12   \n",
       "5     https://twitter.com/dog_rates/status/891087950...                13   \n",
       "6     https://gofundme.com/ydvmve-surgery-for-jax,ht...                13   \n",
       "7     https://twitter.com/dog_rates/status/890729181...                13   \n",
       "8     https://twitter.com/dog_rates/status/890609185...                13   \n",
       "9     https://twitter.com/dog_rates/status/890240255...                14   \n",
       "10    https://twitter.com/dog_rates/status/890006608...                13   \n",
       "11    https://twitter.com/dog_rates/status/889880896...                13   \n",
       "12    https://twitter.com/dog_rates/status/889665388...                13   \n",
       "13    https://twitter.com/dog_rates/status/889638837...                12   \n",
       "14    https://twitter.com/dog_rates/status/889531135...                13   \n",
       "15    https://twitter.com/dog_rates/status/889278841...                13   \n",
       "16    https://twitter.com/dog_rates/status/888917238...                12   \n",
       "17    https://twitter.com/dog_rates/status/888804989...                13   \n",
       "18    https://twitter.com/dog_rates/status/888554962...                13   \n",
       "19    https://twitter.com/dog_rates/status/887473957...                13   \n",
       "20    https://twitter.com/dog_rates/status/888078434...                12   \n",
       "21    https://twitter.com/dog_rates/status/887705289...                13   \n",
       "22    https://twitter.com/dog_rates/status/887517139...                14   \n",
       "23    https://twitter.com/dog_rates/status/887473957...                13   \n",
       "24    https://twitter.com/dog_rates/status/887343217...                13   \n",
       "25    https://twitter.com/dog_rates/status/887101392...                12   \n",
       "26    https://twitter.com/dog_rates/status/886983233...                13   \n",
       "27    https://www.gofundme.com/mingusneedsus,https:/...                13   \n",
       "28    https://twitter.com/dog_rates/status/886680336...                13   \n",
       "29    https://twitter.com/dog_rates/status/886366144...                12   \n",
       "...                                                 ...               ...   \n",
       "2326  https://twitter.com/dog_rates/status/666411507...                 2   \n",
       "2327  https://twitter.com/dog_rates/status/666407126...                 7   \n",
       "2328  https://twitter.com/dog_rates/status/666396247...                 9   \n",
       "2329  https://twitter.com/dog_rates/status/666373753...                11   \n",
       "2330  https://twitter.com/dog_rates/status/666362758...                 6   \n",
       "2331  https://twitter.com/dog_rates/status/666353288...                 8   \n",
       "2332  https://twitter.com/dog_rates/status/666345417...                10   \n",
       "2333  https://twitter.com/dog_rates/status/666337882...                 9   \n",
       "2334  https://twitter.com/dog_rates/status/666293911...                 3   \n",
       "2335  https://twitter.com/dog_rates/status/666287406...                 1   \n",
       "2336  https://twitter.com/dog_rates/status/666273097...                11   \n",
       "2337  https://twitter.com/dog_rates/status/666268910...                10   \n",
       "2338  https://twitter.com/dog_rates/status/666104133...                 1   \n",
       "2339  https://twitter.com/dog_rates/status/666102155...                11   \n",
       "2340  https://twitter.com/dog_rates/status/666099513...                 8   \n",
       "2341  https://twitter.com/dog_rates/status/666094000...                 9   \n",
       "2342  https://twitter.com/dog_rates/status/666082916...                 6   \n",
       "2343  https://twitter.com/dog_rates/status/666073100...                10   \n",
       "2344  https://twitter.com/dog_rates/status/666071193...                 9   \n",
       "2345  https://twitter.com/dog_rates/status/666063827...                10   \n",
       "2346  https://twitter.com/dog_rates/status/666058600...                 8   \n",
       "2347  https://twitter.com/dog_rates/status/666057090...                 9   \n",
       "2348  https://twitter.com/dog_rates/status/666055525...                10   \n",
       "2349  https://twitter.com/dog_rates/status/666051853...                 2   \n",
       "2350  https://twitter.com/dog_rates/status/666050758...                10   \n",
       "2351  https://twitter.com/dog_rates/status/666049248...                 5   \n",
       "2352  https://twitter.com/dog_rates/status/666044226...                 6   \n",
       "2353  https://twitter.com/dog_rates/status/666033412...                 9   \n",
       "2354  https://twitter.com/dog_rates/status/666029285...                 7   \n",
       "2355  https://twitter.com/dog_rates/status/666020888...                 8   \n",
       "\n",
       "      rating_denominator      name  doggo floofer  pupper  puppo  \n",
       "0                     10   Phineas   None    None    None   None  \n",
       "1                     10     Tilly   None    None    None   None  \n",
       "2                     10    Archie   None    None    None   None  \n",
       "3                     10     Darla   None    None    None   None  \n",
       "4                     10  Franklin   None    None    None   None  \n",
       "5                     10      None   None    None    None   None  \n",
       "6                     10       Jax   None    None    None   None  \n",
       "7                     10      None   None    None    None   None  \n",
       "8                     10      Zoey   None    None    None   None  \n",
       "9                     10    Cassie  doggo    None    None   None  \n",
       "10                    10      Koda   None    None    None   None  \n",
       "11                    10     Bruno   None    None    None   None  \n",
       "12                    10      None   None    None    None  puppo  \n",
       "13                    10       Ted   None    None    None   None  \n",
       "14                    10    Stuart   None    None    None  puppo  \n",
       "15                    10    Oliver   None    None    None   None  \n",
       "16                    10       Jim   None    None    None   None  \n",
       "17                    10      Zeke   None    None    None   None  \n",
       "18                    10   Ralphus   None    None    None   None  \n",
       "19                    10    Canela   None    None    None   None  \n",
       "20                    10    Gerald   None    None    None   None  \n",
       "21                    10   Jeffrey   None    None    None   None  \n",
       "22                    10      such   None    None    None   None  \n",
       "23                    10    Canela   None    None    None   None  \n",
       "24                    10      None   None    None    None   None  \n",
       "25                    10      None   None    None    None   None  \n",
       "26                    10      Maya   None    None    None   None  \n",
       "27                    10    Mingus   None    None    None   None  \n",
       "28                    10     Derek   None    None    None   None  \n",
       "29                    10    Roscoe   None    None  pupper   None  \n",
       "...                  ...       ...    ...     ...     ...    ...  \n",
       "2326                  10     quite   None    None    None   None  \n",
       "2327                  10         a   None    None    None   None  \n",
       "2328                  10      None   None    None    None   None  \n",
       "2329                  10      None   None    None    None   None  \n",
       "2330                  10      None   None    None    None   None  \n",
       "2331                  10      None   None    None    None   None  \n",
       "2332                  10      None   None    None    None   None  \n",
       "2333                  10        an   None    None    None   None  \n",
       "2334                  10         a   None    None    None   None  \n",
       "2335                   2        an   None    None    None   None  \n",
       "2336                  10      None   None    None    None   None  \n",
       "2337                  10      None   None    None    None   None  \n",
       "2338                  10      None   None    None    None   None  \n",
       "2339                  10      None   None    None    None   None  \n",
       "2340                  10      None   None    None    None   None  \n",
       "2341                  10      None   None    None    None   None  \n",
       "2342                  10      None   None    None    None   None  \n",
       "2343                  10      None   None    None    None   None  \n",
       "2344                  10      None   None    None    None   None  \n",
       "2345                  10       the   None    None    None   None  \n",
       "2346                  10       the   None    None    None   None  \n",
       "2347                  10         a   None    None    None   None  \n",
       "2348                  10         a   None    None    None   None  \n",
       "2349                  10        an   None    None    None   None  \n",
       "2350                  10         a   None    None    None   None  \n",
       "2351                  10      None   None    None    None   None  \n",
       "2352                  10         a   None    None    None   None  \n",
       "2353                  10         a   None    None    None   None  \n",
       "2354                  10         a   None    None    None   None  \n",
       "2355                  10      None   None    None    None   None  \n",
       "\n",
       "[2356 rows x 17 columns]>"
      ]
     },
     "execution_count": 7,
     "metadata": {},
     "output_type": "execute_result"
    }
   ],
   "source": [
    "#displaying the first rows of the archives dataframe\n",
    "dog_rates_archive.head"
   ]
  },
  {
   "cell_type": "code",
   "execution_count": 8,
   "metadata": {},
   "outputs": [
    {
     "data": {
      "text/plain": [
       "<bound method NDFrame.head of                 tweet_id                                            jpg_url  \\\n",
       "0     666020888022790149    https://pbs.twimg.com/media/CT4udn0WwAA0aMy.jpg   \n",
       "1     666029285002620928    https://pbs.twimg.com/media/CT42GRgUYAA5iDo.jpg   \n",
       "2     666033412701032449    https://pbs.twimg.com/media/CT4521TWwAEvMyu.jpg   \n",
       "3     666044226329800704    https://pbs.twimg.com/media/CT5Dr8HUEAA-lEu.jpg   \n",
       "4     666049248165822465    https://pbs.twimg.com/media/CT5IQmsXIAAKY4A.jpg   \n",
       "5     666050758794694657    https://pbs.twimg.com/media/CT5Jof1WUAEuVxN.jpg   \n",
       "6     666051853826850816    https://pbs.twimg.com/media/CT5KoJ1WoAAJash.jpg   \n",
       "7     666055525042405380    https://pbs.twimg.com/media/CT5N9tpXIAAifs1.jpg   \n",
       "8     666057090499244032    https://pbs.twimg.com/media/CT5PY90WoAAQGLo.jpg   \n",
       "9     666058600524156928    https://pbs.twimg.com/media/CT5Qw94XAAA_2dP.jpg   \n",
       "10    666063827256086533    https://pbs.twimg.com/media/CT5Vg_wXIAAXfnj.jpg   \n",
       "11    666071193221509120    https://pbs.twimg.com/media/CT5cN_3WEAAlOoZ.jpg   \n",
       "12    666073100786774016    https://pbs.twimg.com/media/CT5d9DZXAAALcwe.jpg   \n",
       "13    666082916733198337    https://pbs.twimg.com/media/CT5m4VGWEAAtKc8.jpg   \n",
       "14    666094000022159362    https://pbs.twimg.com/media/CT5w9gUW4AAsBNN.jpg   \n",
       "15    666099513787052032    https://pbs.twimg.com/media/CT51-JJUEAA6hV8.jpg   \n",
       "16    666102155909144576    https://pbs.twimg.com/media/CT54YGiWUAEZnoK.jpg   \n",
       "17    666104133288665088    https://pbs.twimg.com/media/CT56LSZWoAAlJj2.jpg   \n",
       "18    666268910803644416    https://pbs.twimg.com/media/CT8QCd1WEAADXws.jpg   \n",
       "19    666273097616637952    https://pbs.twimg.com/media/CT8T1mtUwAA3aqm.jpg   \n",
       "20    666287406224695296    https://pbs.twimg.com/media/CT8g3BpUEAAuFjg.jpg   \n",
       "21    666293911632134144    https://pbs.twimg.com/media/CT8mx7KW4AEQu8N.jpg   \n",
       "22    666337882303524864    https://pbs.twimg.com/media/CT9OwFIWEAMuRje.jpg   \n",
       "23    666345417576210432    https://pbs.twimg.com/media/CT9Vn7PWoAA_ZCM.jpg   \n",
       "24    666353288456101888    https://pbs.twimg.com/media/CT9cx0tUEAAhNN_.jpg   \n",
       "25    666362758909284353    https://pbs.twimg.com/media/CT9lXGsUcAAyUFt.jpg   \n",
       "26    666373753744588802    https://pbs.twimg.com/media/CT9vZEYWUAAlZ05.jpg   \n",
       "27    666396247373291520    https://pbs.twimg.com/media/CT-D2ZHWIAA3gK1.jpg   \n",
       "28    666407126856765440    https://pbs.twimg.com/media/CT-NvwmW4AAugGZ.jpg   \n",
       "29    666411507551481857    https://pbs.twimg.com/media/CT-RugiWIAELEaq.jpg   \n",
       "...                  ...                                                ...   \n",
       "2045  886366144734445568    https://pbs.twimg.com/media/DE0BTnQUwAApKEH.jpg   \n",
       "2046  886680336477933568    https://pbs.twimg.com/media/DE4fEDzWAAAyHMM.jpg   \n",
       "2047  886736880519319552    https://pbs.twimg.com/media/DE5Se8FXcAAJFx4.jpg   \n",
       "2048  886983233522544640    https://pbs.twimg.com/media/DE8yicJW0AAAvBJ.jpg   \n",
       "2049  887101392804085760    https://pbs.twimg.com/media/DE-eAq6UwAA-jaE.jpg   \n",
       "2050  887343217045368832  https://pbs.twimg.com/ext_tw_video_thumb/88734...   \n",
       "2051  887473957103951883    https://pbs.twimg.com/media/DFDw2tyUQAAAFke.jpg   \n",
       "2052  887517139158093824  https://pbs.twimg.com/ext_tw_video_thumb/88751...   \n",
       "2053  887705289381826560    https://pbs.twimg.com/media/DFHDQBbXgAEqY7t.jpg   \n",
       "2054  888078434458587136    https://pbs.twimg.com/media/DFMWn56WsAAkA7B.jpg   \n",
       "2055  888202515573088257    https://pbs.twimg.com/media/DFDw2tyUQAAAFke.jpg   \n",
       "2056  888554962724278272    https://pbs.twimg.com/media/DFTH_O-UQAACu20.jpg   \n",
       "2057  888804989199671297    https://pbs.twimg.com/media/DFWra-3VYAA2piG.jpg   \n",
       "2058  888917238123831296    https://pbs.twimg.com/media/DFYRgsOUQAARGhO.jpg   \n",
       "2059  889278841981685760  https://pbs.twimg.com/ext_tw_video_thumb/88927...   \n",
       "2060  889531135344209921    https://pbs.twimg.com/media/DFg_2PVW0AEHN3p.jpg   \n",
       "2061  889638837579907072    https://pbs.twimg.com/media/DFihzFfXsAYGDPR.jpg   \n",
       "2062  889665388333682689    https://pbs.twimg.com/media/DFi579UWsAAatzw.jpg   \n",
       "2063  889880896479866881    https://pbs.twimg.com/media/DFl99B1WsAITKsg.jpg   \n",
       "2064  890006608113172480    https://pbs.twimg.com/media/DFnwSY4WAAAMliS.jpg   \n",
       "2065  890240255349198849    https://pbs.twimg.com/media/DFrEyVuW0AAO3t9.jpg   \n",
       "2066  890609185150312448    https://pbs.twimg.com/media/DFwUU__XcAEpyXI.jpg   \n",
       "2067  890729181411237888    https://pbs.twimg.com/media/DFyBahAVwAAhUTd.jpg   \n",
       "2068  890971913173991426    https://pbs.twimg.com/media/DF1eOmZXUAALUcq.jpg   \n",
       "2069  891087950875897856    https://pbs.twimg.com/media/DF3HwyEWsAABqE6.jpg   \n",
       "2070  891327558926688256    https://pbs.twimg.com/media/DF6hr6BUMAAzZgT.jpg   \n",
       "2071  891689557279858688    https://pbs.twimg.com/media/DF_q7IAWsAEuuN8.jpg   \n",
       "2072  891815181378084864    https://pbs.twimg.com/media/DGBdLU1WsAANxJ9.jpg   \n",
       "2073  892177421306343426    https://pbs.twimg.com/media/DGGmoV4XsAAUL6n.jpg   \n",
       "2074  892420643555336193    https://pbs.twimg.com/media/DGKD1-bXoAAIAUK.jpg   \n",
       "\n",
       "      img_num                           p1   p1_conf  p1_dog  \\\n",
       "0           1       Welsh_springer_spaniel  0.465074    True   \n",
       "1           1                      redbone  0.506826    True   \n",
       "2           1              German_shepherd  0.596461    True   \n",
       "3           1          Rhodesian_ridgeback  0.408143    True   \n",
       "4           1           miniature_pinscher  0.560311    True   \n",
       "5           1         Bernese_mountain_dog  0.651137    True   \n",
       "6           1                   box_turtle  0.933012   False   \n",
       "7           1                         chow  0.692517    True   \n",
       "8           1                shopping_cart  0.962465   False   \n",
       "9           1             miniature_poodle  0.201493    True   \n",
       "10          1             golden_retriever  0.775930    True   \n",
       "11          1                Gordon_setter  0.503672    True   \n",
       "12          1                 Walker_hound  0.260857    True   \n",
       "13          1                          pug  0.489814    True   \n",
       "14          1                   bloodhound  0.195217    True   \n",
       "15          1                        Lhasa  0.582330    True   \n",
       "16          1               English_setter  0.298617    True   \n",
       "17          1                          hen  0.965932   False   \n",
       "18          1             desktop_computer  0.086502   False   \n",
       "19          1            Italian_greyhound  0.176053    True   \n",
       "20          1                  Maltese_dog  0.857531    True   \n",
       "21          1             three-toed_sloth  0.914671   False   \n",
       "22          1                           ox  0.416669   False   \n",
       "23          1             golden_retriever  0.858744    True   \n",
       "24          1                     malamute  0.336874    True   \n",
       "25          1                   guinea_pig  0.996496   False   \n",
       "26          1  soft-coated_wheaten_terrier  0.326467    True   \n",
       "27          1                    Chihuahua  0.978108    True   \n",
       "28          1      black-and-tan_coonhound  0.529139    True   \n",
       "29          1                         coho  0.404640   False   \n",
       "...       ...                          ...       ...     ...   \n",
       "2045        1               French_bulldog  0.999201    True   \n",
       "2046        1                  convertible  0.738995   False   \n",
       "2047        1                       kuvasz  0.309706    True   \n",
       "2048        2                    Chihuahua  0.793469    True   \n",
       "2049        1                      Samoyed  0.733942    True   \n",
       "2050        1             Mexican_hairless  0.330741    True   \n",
       "2051        2                     Pembroke  0.809197    True   \n",
       "2052        1                    limousine  0.130432   False   \n",
       "2053        1                       basset  0.821664    True   \n",
       "2054        1               French_bulldog  0.995026    True   \n",
       "2055        2                     Pembroke  0.809197    True   \n",
       "2056        3               Siberian_husky  0.700377    True   \n",
       "2057        1             golden_retriever  0.469760    True   \n",
       "2058        1             golden_retriever  0.714719    True   \n",
       "2059        1                      whippet  0.626152    True   \n",
       "2060        1             golden_retriever  0.953442    True   \n",
       "2061        1               French_bulldog  0.991650    True   \n",
       "2062        1                     Pembroke  0.966327    True   \n",
       "2063        1               French_bulldog  0.377417    True   \n",
       "2064        1                      Samoyed  0.957979    True   \n",
       "2065        1                     Pembroke  0.511319    True   \n",
       "2066        1                Irish_terrier  0.487574    True   \n",
       "2067        2                   Pomeranian  0.566142    True   \n",
       "2068        1                  Appenzeller  0.341703    True   \n",
       "2069        1     Chesapeake_Bay_retriever  0.425595    True   \n",
       "2070        2                       basset  0.555712    True   \n",
       "2071        1                  paper_towel  0.170278   False   \n",
       "2072        1                    Chihuahua  0.716012    True   \n",
       "2073        1                    Chihuahua  0.323581    True   \n",
       "2074        1                       orange  0.097049   False   \n",
       "\n",
       "                            p2   p2_conf  p2_dog                           p3  \\\n",
       "0                       collie  0.156665    True            Shetland_sheepdog   \n",
       "1           miniature_pinscher  0.074192    True          Rhodesian_ridgeback   \n",
       "2                     malinois  0.138584    True                   bloodhound   \n",
       "3                      redbone  0.360687    True           miniature_pinscher   \n",
       "4                   Rottweiler  0.243682    True                     Doberman   \n",
       "5             English_springer  0.263788    True   Greater_Swiss_Mountain_dog   \n",
       "6                   mud_turtle  0.045885   False                     terrapin   \n",
       "7              Tibetan_mastiff  0.058279    True                     fur_coat   \n",
       "8              shopping_basket  0.014594   False             golden_retriever   \n",
       "9                     komondor  0.192305    True  soft-coated_wheaten_terrier   \n",
       "10             Tibetan_mastiff  0.093718    True           Labrador_retriever   \n",
       "11           Yorkshire_terrier  0.174201    True                     Pekinese   \n",
       "12            English_foxhound  0.175382    True                 Ibizan_hound   \n",
       "13                bull_mastiff  0.404722    True               French_bulldog   \n",
       "14             German_shepherd  0.078260    True                     malinois   \n",
       "15                    Shih-Tzu  0.166192    True               Dandie_Dinmont   \n",
       "16                Newfoundland  0.149842    True                       borzoi   \n",
       "17                        cock  0.033919   False                    partridge   \n",
       "18                        desk  0.085547   False                     bookcase   \n",
       "19                 toy_terrier  0.111884    True                      basenji   \n",
       "20                  toy_poodle  0.063064    True             miniature_poodle   \n",
       "21                       otter  0.015250   False               great_grey_owl   \n",
       "22                Newfoundland  0.278407    True                  groenendael   \n",
       "23    Chesapeake_Bay_retriever  0.054787    True           Labrador_retriever   \n",
       "24              Siberian_husky  0.147655    True                   Eskimo_dog   \n",
       "25                       skunk  0.002402   False                      hamster   \n",
       "26                Afghan_hound  0.259551    True                       briard   \n",
       "27                 toy_terrier  0.009397    True                     papillon   \n",
       "28                  bloodhound  0.244220    True        flat-coated_retriever   \n",
       "29                  barracouta  0.271485   False                          gar   \n",
       "...                        ...       ...     ...                          ...   \n",
       "2045                 Chihuahua  0.000361    True                  Boston_bull   \n",
       "2046                sports_car  0.139952   False                    car_wheel   \n",
       "2047            Great_Pyrenees  0.186136    True               Dandie_Dinmont   \n",
       "2048               toy_terrier  0.143528    True                   can_opener   \n",
       "2049                Eskimo_dog  0.035029    True    Staffordshire_bullterrier   \n",
       "2050                  sea_lion  0.275645   False                   Weimaraner   \n",
       "2051       Rhodesian_ridgeback  0.054950    True                       beagle   \n",
       "2052                 tow_truck  0.029175   False                shopping_cart   \n",
       "2053                   redbone  0.087582    True                   Weimaraner   \n",
       "2054                       pug  0.000932    True                 bull_mastiff   \n",
       "2055       Rhodesian_ridgeback  0.054950    True                       beagle   \n",
       "2056                Eskimo_dog  0.166511    True                     malamute   \n",
       "2057        Labrador_retriever  0.184172    True               English_setter   \n",
       "2058           Tibetan_mastiff  0.120184    True           Labrador_retriever   \n",
       "2059                    borzoi  0.194742    True                       Saluki   \n",
       "2060        Labrador_retriever  0.013834    True                      redbone   \n",
       "2061                     boxer  0.002129    True    Staffordshire_bullterrier   \n",
       "2062                  Cardigan  0.027356    True                      basenji   \n",
       "2063        Labrador_retriever  0.151317    True                       muzzle   \n",
       "2064                Pomeranian  0.013884    True                         chow   \n",
       "2065                  Cardigan  0.451038    True                    Chihuahua   \n",
       "2066              Irish_setter  0.193054    True     Chesapeake_Bay_retriever   \n",
       "2067                Eskimo_dog  0.178406    True                     Pembroke   \n",
       "2068             Border_collie  0.199287    True                    ice_lolly   \n",
       "2069             Irish_terrier  0.116317    True              Indian_elephant   \n",
       "2070          English_springer  0.225770    True  German_short-haired_pointer   \n",
       "2071        Labrador_retriever  0.168086    True                      spatula   \n",
       "2072                  malamute  0.078253    True                       kelpie   \n",
       "2073                  Pekinese  0.090647    True                     papillon   \n",
       "2074                     bagel  0.085851   False                       banana   \n",
       "\n",
       "       p3_conf  p3_dog  \n",
       "0     0.061428    True  \n",
       "1     0.072010    True  \n",
       "2     0.116197    True  \n",
       "3     0.222752    True  \n",
       "4     0.154629    True  \n",
       "5     0.016199    True  \n",
       "6     0.017885   False  \n",
       "7     0.054449   False  \n",
       "8     0.007959    True  \n",
       "9     0.082086    True  \n",
       "10    0.072427    True  \n",
       "11    0.109454    True  \n",
       "12    0.097471    True  \n",
       "13    0.048960    True  \n",
       "14    0.075628    True  \n",
       "15    0.089688    True  \n",
       "16    0.133649    True  \n",
       "17    0.000052   False  \n",
       "18    0.079480   False  \n",
       "19    0.111152    True  \n",
       "20    0.025581    True  \n",
       "21    0.013207   False  \n",
       "22    0.102643    True  \n",
       "23    0.014241    True  \n",
       "24    0.093412    True  \n",
       "25    0.000461   False  \n",
       "26    0.206803    True  \n",
       "27    0.004577    True  \n",
       "28    0.173810    True  \n",
       "29    0.189945   False  \n",
       "...        ...     ...  \n",
       "2045  0.000076    True  \n",
       "2046  0.044173   False  \n",
       "2047  0.086346    True  \n",
       "2048  0.032253   False  \n",
       "2049  0.029705    True  \n",
       "2050  0.134203    True  \n",
       "2051  0.038915    True  \n",
       "2052  0.026321   False  \n",
       "2053  0.026236    True  \n",
       "2054  0.000903    True  \n",
       "2055  0.038915    True  \n",
       "2056  0.111411    True  \n",
       "2057  0.073482    True  \n",
       "2058  0.105506    True  \n",
       "2059  0.027351    True  \n",
       "2060  0.007958    True  \n",
       "2061  0.001498    True  \n",
       "2062  0.004633    True  \n",
       "2063  0.082981   False  \n",
       "2064  0.008167    True  \n",
       "2065  0.029248    True  \n",
       "2066  0.118184    True  \n",
       "2067  0.076507    True  \n",
       "2068  0.193548   False  \n",
       "2069  0.076902   False  \n",
       "2070  0.175219    True  \n",
       "2071  0.040836   False  \n",
       "2072  0.031379    True  \n",
       "2073  0.068957    True  \n",
       "2074  0.076110   False  \n",
       "\n",
       "[2075 rows x 12 columns]>"
      ]
     },
     "execution_count": 8,
     "metadata": {},
     "output_type": "execute_result"
    }
   ],
   "source": [
    "#displaying the first rows of the image predictions dataframe\n",
    "img_predictions.head"
   ]
  },
  {
   "cell_type": "code",
   "execution_count": 9,
   "metadata": {},
   "outputs": [
    {
     "data": {
      "text/plain": [
       "<bound method NDFrame.head of                 tweet_id  retweet_count  favorite_count  \\\n",
       "0     892420643555336193           8853           39467   \n",
       "1     892177421306343426           6514           33819   \n",
       "2     891815181378084864           4328           25461   \n",
       "3     891689557279858688           8964           42908   \n",
       "4     891327558926688256           9774           41048   \n",
       "5     891087950875897856           3261           20562   \n",
       "6     890971913173991426           2158           12041   \n",
       "7     890729181411237888          16716           56848   \n",
       "8     890609185150312448           4429           28226   \n",
       "9     890240255349198849           7711           32467   \n",
       "10    890006608113172480           7624           31166   \n",
       "11    889880896479866881           5156           28268   \n",
       "12    889665388333682689           8538           38818   \n",
       "13    889638837579907072           4735           27672   \n",
       "14    889531135344209921           2321           15359   \n",
       "15    889278841981685760           5637           25652   \n",
       "16    888917238123831296           4709           29611   \n",
       "17    888804989199671297           4559           26080   \n",
       "18    888554962724278272           3732           20290   \n",
       "19    888078434458587136           3653           22201   \n",
       "20    887705289381826560           5609           30779   \n",
       "21    887517139158093824          12082           46959   \n",
       "22    887473957103951883          18781           69871   \n",
       "23    887343217045368832          10737           34222   \n",
       "24    887101392804085760           6167           31061   \n",
       "25    886983233522544640           8084           35859   \n",
       "26    886736880519319552           3443           12306   \n",
       "27    886680336477933568           4610           22798   \n",
       "28    886366144734445568           3316           21524   \n",
       "29    886267009285017600              4             117   \n",
       "...                  ...            ...             ...   \n",
       "2324  666411507551481857            339             459   \n",
       "2325  666407126856765440             44             113   \n",
       "2326  666396247373291520             92             172   \n",
       "2327  666373753744588802            100             194   \n",
       "2328  666362758909284353            595             804   \n",
       "2329  666353288456101888             77             229   \n",
       "2330  666345417576210432            146             307   \n",
       "2331  666337882303524864             96             204   \n",
       "2332  666293911632134144            368             522   \n",
       "2333  666287406224695296             71             152   \n",
       "2334  666273097616637952             82             184   \n",
       "2335  666268910803644416             37             108   \n",
       "2336  666104133288665088           6871           14765   \n",
       "2337  666102155909144576             16              81   \n",
       "2338  666099513787052032             73             164   \n",
       "2339  666094000022159362             79             169   \n",
       "2340  666082916733198337             47             121   \n",
       "2341  666073100786774016            174             335   \n",
       "2342  666071193221509120             67             154   \n",
       "2343  666063827256086533            232             496   \n",
       "2344  666058600524156928             61             115   \n",
       "2345  666057090499244032            146             304   \n",
       "2346  666055525042405380            261             448   \n",
       "2347  666051853826850816            879            1253   \n",
       "2348  666050758794694657             60             136   \n",
       "2349  666049248165822465             41             111   \n",
       "2350  666044226329800704            147             311   \n",
       "2351  666033412701032449             47             128   \n",
       "2352  666029285002620928             48             132   \n",
       "2353  666020888022790149            532            2535   \n",
       "\n",
       "                         create_date  \n",
       "0     Tue Aug 01 16:23:56 +0000 2017  \n",
       "1     Tue Aug 01 00:17:27 +0000 2017  \n",
       "2     Mon Jul 31 00:18:03 +0000 2017  \n",
       "3     Sun Jul 30 15:58:51 +0000 2017  \n",
       "4     Sat Jul 29 16:00:24 +0000 2017  \n",
       "5     Sat Jul 29 00:08:17 +0000 2017  \n",
       "6     Fri Jul 28 16:27:12 +0000 2017  \n",
       "7     Fri Jul 28 00:22:40 +0000 2017  \n",
       "8     Thu Jul 27 16:25:51 +0000 2017  \n",
       "9     Wed Jul 26 15:59:51 +0000 2017  \n",
       "10    Wed Jul 26 00:31:25 +0000 2017  \n",
       "11    Tue Jul 25 16:11:53 +0000 2017  \n",
       "12    Tue Jul 25 01:55:32 +0000 2017  \n",
       "13    Tue Jul 25 00:10:02 +0000 2017  \n",
       "14    Mon Jul 24 17:02:04 +0000 2017  \n",
       "15    Mon Jul 24 00:19:32 +0000 2017  \n",
       "16    Sun Jul 23 00:22:39 +0000 2017  \n",
       "17    Sat Jul 22 16:56:37 +0000 2017  \n",
       "18    Sat Jul 22 00:23:06 +0000 2017  \n",
       "19    Thu Jul 20 16:49:33 +0000 2017  \n",
       "20    Wed Jul 19 16:06:48 +0000 2017  \n",
       "21    Wed Jul 19 03:39:09 +0000 2017  \n",
       "22    Wed Jul 19 00:47:34 +0000 2017  \n",
       "23    Tue Jul 18 16:08:03 +0000 2017  \n",
       "24    Tue Jul 18 00:07:08 +0000 2017  \n",
       "25    Mon Jul 17 16:17:36 +0000 2017  \n",
       "26    Sun Jul 16 23:58:41 +0000 2017  \n",
       "27    Sun Jul 16 20:14:00 +0000 2017  \n",
       "28    Sat Jul 15 23:25:31 +0000 2017  \n",
       "29    Sat Jul 15 16:51:35 +0000 2017  \n",
       "...                              ...  \n",
       "2324  Tue Nov 17 00:24:19 +0000 2015  \n",
       "2325  Tue Nov 17 00:06:54 +0000 2015  \n",
       "2326  Mon Nov 16 23:23:41 +0000 2015  \n",
       "2327  Mon Nov 16 21:54:18 +0000 2015  \n",
       "2328  Mon Nov 16 21:10:36 +0000 2015  \n",
       "2329  Mon Nov 16 20:32:58 +0000 2015  \n",
       "2330  Mon Nov 16 20:01:42 +0000 2015  \n",
       "2331  Mon Nov 16 19:31:45 +0000 2015  \n",
       "2332  Mon Nov 16 16:37:02 +0000 2015  \n",
       "2333  Mon Nov 16 16:11:11 +0000 2015  \n",
       "2334  Mon Nov 16 15:14:19 +0000 2015  \n",
       "2335  Mon Nov 16 14:57:41 +0000 2015  \n",
       "2336  Mon Nov 16 04:02:55 +0000 2015  \n",
       "2337  Mon Nov 16 03:55:04 +0000 2015  \n",
       "2338  Mon Nov 16 03:44:34 +0000 2015  \n",
       "2339  Mon Nov 16 03:22:39 +0000 2015  \n",
       "2340  Mon Nov 16 02:38:37 +0000 2015  \n",
       "2341  Mon Nov 16 01:59:36 +0000 2015  \n",
       "2342  Mon Nov 16 01:52:02 +0000 2015  \n",
       "2343  Mon Nov 16 01:22:45 +0000 2015  \n",
       "2344  Mon Nov 16 01:01:59 +0000 2015  \n",
       "2345  Mon Nov 16 00:55:59 +0000 2015  \n",
       "2346  Mon Nov 16 00:49:46 +0000 2015  \n",
       "2347  Mon Nov 16 00:35:11 +0000 2015  \n",
       "2348  Mon Nov 16 00:30:50 +0000 2015  \n",
       "2349  Mon Nov 16 00:24:50 +0000 2015  \n",
       "2350  Mon Nov 16 00:04:52 +0000 2015  \n",
       "2351  Sun Nov 15 23:21:54 +0000 2015  \n",
       "2352  Sun Nov 15 23:05:30 +0000 2015  \n",
       "2353  Sun Nov 15 22:32:08 +0000 2015  \n",
       "\n",
       "[2354 rows x 4 columns]>"
      ]
     },
     "execution_count": 9,
     "metadata": {},
     "output_type": "execute_result"
    }
   ],
   "source": [
    "#displaying the first rows of the tweets dataframe\n",
    "tweets.head"
   ]
  },
  {
   "cell_type": "markdown",
   "metadata": {},
   "source": [
    "##### B. Programmatic assessment: Using Pandas functions to assess the data."
   ]
  },
  {
   "cell_type": "code",
   "execution_count": 10,
   "metadata": {},
   "outputs": [
    {
     "name": "stdout",
     "output_type": "stream",
     "text": [
      "<class 'pandas.core.frame.DataFrame'>\n",
      "RangeIndex: 2356 entries, 0 to 2355\n",
      "Data columns (total 17 columns):\n",
      "tweet_id                      2356 non-null int64\n",
      "in_reply_to_status_id         78 non-null float64\n",
      "in_reply_to_user_id           78 non-null float64\n",
      "timestamp                     2356 non-null object\n",
      "source                        2356 non-null object\n",
      "text                          2356 non-null object\n",
      "retweeted_status_id           181 non-null float64\n",
      "retweeted_status_user_id      181 non-null float64\n",
      "retweeted_status_timestamp    181 non-null object\n",
      "expanded_urls                 2297 non-null object\n",
      "rating_numerator              2356 non-null int64\n",
      "rating_denominator            2356 non-null int64\n",
      "name                          2356 non-null object\n",
      "doggo                         2356 non-null object\n",
      "floofer                       2356 non-null object\n",
      "pupper                        2356 non-null object\n",
      "puppo                         2356 non-null object\n",
      "dtypes: float64(4), int64(3), object(10)\n",
      "memory usage: 313.0+ KB\n"
     ]
    }
   ],
   "source": [
    "#Check for detailed info on null values and datatypes\n",
    "dog_rates_archive.info()"
   ]
  },
  {
   "cell_type": "code",
   "execution_count": 11,
   "metadata": {},
   "outputs": [
    {
     "name": "stdout",
     "output_type": "stream",
     "text": [
      "<class 'pandas.core.frame.DataFrame'>\n",
      "RangeIndex: 2075 entries, 0 to 2074\n",
      "Data columns (total 12 columns):\n",
      "tweet_id    2075 non-null int64\n",
      "jpg_url     2075 non-null object\n",
      "img_num     2075 non-null int64\n",
      "p1          2075 non-null object\n",
      "p1_conf     2075 non-null float64\n",
      "p1_dog      2075 non-null bool\n",
      "p2          2075 non-null object\n",
      "p2_conf     2075 non-null float64\n",
      "p2_dog      2075 non-null bool\n",
      "p3          2075 non-null object\n",
      "p3_conf     2075 non-null float64\n",
      "p3_dog      2075 non-null bool\n",
      "dtypes: bool(3), float64(3), int64(2), object(4)\n",
      "memory usage: 152.1+ KB\n"
     ]
    }
   ],
   "source": [
    "#Check for detailed info on null values and datatypes\n",
    "img_predictions.info()"
   ]
  },
  {
   "cell_type": "code",
   "execution_count": 12,
   "metadata": {},
   "outputs": [
    {
     "name": "stdout",
     "output_type": "stream",
     "text": [
      "<class 'pandas.core.frame.DataFrame'>\n",
      "RangeIndex: 2354 entries, 0 to 2353\n",
      "Data columns (total 4 columns):\n",
      "tweet_id          2354 non-null int64\n",
      "retweet_count     2354 non-null int64\n",
      "favorite_count    2354 non-null int64\n",
      "create_date       2354 non-null object\n",
      "dtypes: int64(3), object(1)\n",
      "memory usage: 73.6+ KB\n"
     ]
    }
   ],
   "source": [
    "#Check for detailed info on null values and datatypes\n",
    "tweets.info()"
   ]
  },
  {
   "cell_type": "code",
   "execution_count": 13,
   "metadata": {},
   "outputs": [
    {
     "data": {
      "text/plain": [
       "(2356, 17)"
      ]
     },
     "execution_count": 13,
     "metadata": {},
     "output_type": "execute_result"
    }
   ],
   "source": [
    "#check for rows and columns\n",
    "dog_rates_archive.shape"
   ]
  },
  {
   "cell_type": "code",
   "execution_count": 14,
   "metadata": {},
   "outputs": [
    {
     "data": {
      "text/plain": [
       "(2075, 12)"
      ]
     },
     "execution_count": 14,
     "metadata": {},
     "output_type": "execute_result"
    }
   ],
   "source": [
    "#check for rows and columns\n",
    "img_predictions.shape"
   ]
  },
  {
   "cell_type": "code",
   "execution_count": 15,
   "metadata": {},
   "outputs": [
    {
     "data": {
      "text/plain": [
       "(2354, 4)"
      ]
     },
     "execution_count": 15,
     "metadata": {},
     "output_type": "execute_result"
    }
   ],
   "source": [
    "#check for rows and columns\n",
    "tweets.shape"
   ]
  },
  {
   "cell_type": "markdown",
   "metadata": {},
   "source": [
    "checking for duplicates in the 3 dataframes"
   ]
  },
  {
   "cell_type": "code",
   "execution_count": 16,
   "metadata": {
    "scrolled": false
   },
   "outputs": [
    {
     "data": {
      "text/html": [
       "<div>\n",
       "<style scoped>\n",
       "    .dataframe tbody tr th:only-of-type {\n",
       "        vertical-align: middle;\n",
       "    }\n",
       "\n",
       "    .dataframe tbody tr th {\n",
       "        vertical-align: top;\n",
       "    }\n",
       "\n",
       "    .dataframe thead th {\n",
       "        text-align: right;\n",
       "    }\n",
       "</style>\n",
       "<table border=\"1\" class=\"dataframe\">\n",
       "  <thead>\n",
       "    <tr style=\"text-align: right;\">\n",
       "      <th></th>\n",
       "      <th>tweet_id</th>\n",
       "      <th>in_reply_to_status_id</th>\n",
       "      <th>in_reply_to_user_id</th>\n",
       "      <th>timestamp</th>\n",
       "      <th>source</th>\n",
       "      <th>text</th>\n",
       "      <th>retweeted_status_id</th>\n",
       "      <th>retweeted_status_user_id</th>\n",
       "      <th>retweeted_status_timestamp</th>\n",
       "      <th>expanded_urls</th>\n",
       "      <th>rating_numerator</th>\n",
       "      <th>rating_denominator</th>\n",
       "      <th>name</th>\n",
       "      <th>doggo</th>\n",
       "      <th>floofer</th>\n",
       "      <th>pupper</th>\n",
       "      <th>puppo</th>\n",
       "    </tr>\n",
       "  </thead>\n",
       "  <tbody>\n",
       "  </tbody>\n",
       "</table>\n",
       "</div>"
      ],
      "text/plain": [
       "Empty DataFrame\n",
       "Columns: [tweet_id, in_reply_to_status_id, in_reply_to_user_id, timestamp, source, text, retweeted_status_id, retweeted_status_user_id, retweeted_status_timestamp, expanded_urls, rating_numerator, rating_denominator, name, doggo, floofer, pupper, puppo]\n",
       "Index: []"
      ]
     },
     "execution_count": 16,
     "metadata": {},
     "output_type": "execute_result"
    }
   ],
   "source": [
    "dog_rates_archive[dog_rates_archive.tweet_id.duplicated()]"
   ]
  },
  {
   "cell_type": "markdown",
   "metadata": {},
   "source": [
    "There are no duplicates in the archive dataset"
   ]
  },
  {
   "cell_type": "code",
   "execution_count": 17,
   "metadata": {
    "scrolled": true
   },
   "outputs": [
    {
     "data": {
      "text/html": [
       "<div>\n",
       "<style scoped>\n",
       "    .dataframe tbody tr th:only-of-type {\n",
       "        vertical-align: middle;\n",
       "    }\n",
       "\n",
       "    .dataframe tbody tr th {\n",
       "        vertical-align: top;\n",
       "    }\n",
       "\n",
       "    .dataframe thead th {\n",
       "        text-align: right;\n",
       "    }\n",
       "</style>\n",
       "<table border=\"1\" class=\"dataframe\">\n",
       "  <thead>\n",
       "    <tr style=\"text-align: right;\">\n",
       "      <th></th>\n",
       "      <th>tweet_id</th>\n",
       "      <th>jpg_url</th>\n",
       "      <th>img_num</th>\n",
       "      <th>p1</th>\n",
       "      <th>p1_conf</th>\n",
       "      <th>p1_dog</th>\n",
       "      <th>p2</th>\n",
       "      <th>p2_conf</th>\n",
       "      <th>p2_dog</th>\n",
       "      <th>p3</th>\n",
       "      <th>p3_conf</th>\n",
       "      <th>p3_dog</th>\n",
       "    </tr>\n",
       "  </thead>\n",
       "  <tbody>\n",
       "  </tbody>\n",
       "</table>\n",
       "</div>"
      ],
      "text/plain": [
       "Empty DataFrame\n",
       "Columns: [tweet_id, jpg_url, img_num, p1, p1_conf, p1_dog, p2, p2_conf, p2_dog, p3, p3_conf, p3_dog]\n",
       "Index: []"
      ]
     },
     "execution_count": 17,
     "metadata": {},
     "output_type": "execute_result"
    }
   ],
   "source": [
    "img_predictions[img_predictions.tweet_id.duplicated()]"
   ]
  },
  {
   "cell_type": "markdown",
   "metadata": {},
   "source": [
    "There are no duplicates in the image dataset"
   ]
  },
  {
   "cell_type": "code",
   "execution_count": 18,
   "metadata": {},
   "outputs": [
    {
     "data": {
      "text/html": [
       "<div>\n",
       "<style scoped>\n",
       "    .dataframe tbody tr th:only-of-type {\n",
       "        vertical-align: middle;\n",
       "    }\n",
       "\n",
       "    .dataframe tbody tr th {\n",
       "        vertical-align: top;\n",
       "    }\n",
       "\n",
       "    .dataframe thead th {\n",
       "        text-align: right;\n",
       "    }\n",
       "</style>\n",
       "<table border=\"1\" class=\"dataframe\">\n",
       "  <thead>\n",
       "    <tr style=\"text-align: right;\">\n",
       "      <th></th>\n",
       "      <th>tweet_id</th>\n",
       "      <th>retweet_count</th>\n",
       "      <th>favorite_count</th>\n",
       "      <th>create_date</th>\n",
       "    </tr>\n",
       "  </thead>\n",
       "  <tbody>\n",
       "  </tbody>\n",
       "</table>\n",
       "</div>"
      ],
      "text/plain": [
       "Empty DataFrame\n",
       "Columns: [tweet_id, retweet_count, favorite_count, create_date]\n",
       "Index: []"
      ]
     },
     "execution_count": 18,
     "metadata": {},
     "output_type": "execute_result"
    }
   ],
   "source": [
    "tweets[tweets.tweet_id.duplicated()]"
   ]
  },
  {
   "cell_type": "markdown",
   "metadata": {},
   "source": [
    "There are no duplicates in the json file"
   ]
  },
  {
   "cell_type": "markdown",
   "metadata": {},
   "source": [
    "Read the value counts for the different tweet sources and names in dog_rates_archive."
   ]
  },
  {
   "cell_type": "code",
   "execution_count": 19,
   "metadata": {
    "scrolled": true
   },
   "outputs": [
    {
     "data": {
      "text/plain": [
       "<a href=\"http://twitter.com/download/iphone\" rel=\"nofollow\">Twitter for iPhone</a>     2221\n",
       "<a href=\"http://vine.co\" rel=\"nofollow\">Vine - Make a Scene</a>                          91\n",
       "<a href=\"http://twitter.com\" rel=\"nofollow\">Twitter Web Client</a>                       33\n",
       "<a href=\"https://about.twitter.com/products/tweetdeck\" rel=\"nofollow\">TweetDeck</a>      11\n",
       "Name: source, dtype: int64"
      ]
     },
     "execution_count": 19,
     "metadata": {},
     "output_type": "execute_result"
    }
   ],
   "source": [
    "dog_rates_archive.source.value_counts()"
   ]
  },
  {
   "cell_type": "markdown",
   "metadata": {},
   "source": [
    "The value count on source indicates that we have 3 twitter sources"
   ]
  },
  {
   "cell_type": "code",
   "execution_count": 20,
   "metadata": {},
   "outputs": [
    {
     "data": {
      "text/plain": [
       "None         745\n",
       "a             55\n",
       "Charlie       12\n",
       "Lucy          11\n",
       "Cooper        11\n",
       "Oliver        11\n",
       "Lola          10\n",
       "Penny         10\n",
       "Tucker        10\n",
       "Winston        9\n",
       "Bo             9\n",
       "the            8\n",
       "Sadie          8\n",
       "Buddy          7\n",
       "Bailey         7\n",
       "Toby           7\n",
       "Daisy          7\n",
       "an             7\n",
       "Jack           6\n",
       "Jax            6\n",
       "Milo           6\n",
       "Rusty          6\n",
       "Koda           6\n",
       "Stanley        6\n",
       "Scout          6\n",
       "Dave           6\n",
       "Bella          6\n",
       "Oscar          6\n",
       "Leo            6\n",
       "Chester        5\n",
       "            ... \n",
       "Sora           1\n",
       "my             1\n",
       "Mojo           1\n",
       "Butters        1\n",
       "Lenox          1\n",
       "Gert           1\n",
       "Maxwell        1\n",
       "Mauve          1\n",
       "Katie          1\n",
       "Tove           1\n",
       "Taco           1\n",
       "Tassy          1\n",
       "Robin          1\n",
       "Deacon         1\n",
       "Fletcher       1\n",
       "Sprinkles      1\n",
       "Mookie         1\n",
       "Franq          1\n",
       "Lili           1\n",
       "Hamrick        1\n",
       "Swagger        1\n",
       "Lupe           1\n",
       "Kane           1\n",
       "Barney         1\n",
       "Geoff          1\n",
       "Noosh          1\n",
       "Danny          1\n",
       "Brutus         1\n",
       "Tess           1\n",
       "Boots          1\n",
       "Name: name, Length: 957, dtype: int64"
      ]
     },
     "execution_count": 20,
     "metadata": {},
     "output_type": "execute_result"
    }
   ],
   "source": [
    "dog_rates_archive.name.value_counts()"
   ]
  },
  {
   "cell_type": "markdown",
   "metadata": {},
   "source": [
    "The result shows that there are some name anomarlies that will need to be cleaned."
   ]
  },
  {
   "cell_type": "markdown",
   "metadata": {},
   "source": [
    "checking the ratings for each of the dogs in the dog_rates_archive"
   ]
  },
  {
   "cell_type": "code",
   "execution_count": 21,
   "metadata": {},
   "outputs": [
    {
     "data": {
      "text/plain": [
       "0         2\n",
       "1         9\n",
       "2         9\n",
       "3        19\n",
       "4        17\n",
       "5        37\n",
       "6        32\n",
       "7        55\n",
       "8       102\n",
       "9       158\n",
       "10      461\n",
       "11      464\n",
       "12      558\n",
       "13      351\n",
       "14       54\n",
       "15        2\n",
       "17        1\n",
       "20        1\n",
       "24        1\n",
       "26        1\n",
       "27        1\n",
       "44        1\n",
       "45        1\n",
       "50        1\n",
       "60        1\n",
       "75        2\n",
       "80        1\n",
       "84        1\n",
       "88        1\n",
       "99        1\n",
       "121       1\n",
       "143       1\n",
       "144       1\n",
       "165       1\n",
       "182       1\n",
       "204       1\n",
       "420       2\n",
       "666       1\n",
       "960       1\n",
       "1776      1\n",
       "Name: rating_numerator, dtype: int64"
      ]
     },
     "execution_count": 21,
     "metadata": {},
     "output_type": "execute_result"
    }
   ],
   "source": [
    "#numerator ratings\n",
    "dog_rates_archive.rating_numerator.value_counts().sort_index()"
   ]
  },
  {
   "cell_type": "code",
   "execution_count": 22,
   "metadata": {},
   "outputs": [
    {
     "data": {
      "text/plain": [
       "0         1\n",
       "2         1\n",
       "7         1\n",
       "10     2333\n",
       "11        3\n",
       "15        1\n",
       "16        1\n",
       "20        2\n",
       "40        1\n",
       "50        3\n",
       "70        1\n",
       "80        2\n",
       "90        1\n",
       "110       1\n",
       "120       1\n",
       "130       1\n",
       "150       1\n",
       "170       1\n",
       "Name: rating_denominator, dtype: int64"
      ]
     },
     "execution_count": 22,
     "metadata": {},
     "output_type": "execute_result"
    }
   ],
   "source": [
    "#denominator ratings\n",
    "dog_rates_archive.rating_denominator.value_counts().sort_index()"
   ]
  },
  {
   "cell_type": "markdown",
   "metadata": {},
   "source": [
    "Check the number of different dog stages seen in Tweets"
   ]
  },
  {
   "cell_type": "code",
   "execution_count": 23,
   "metadata": {},
   "outputs": [
    {
     "name": "stdout",
     "output_type": "stream",
     "text": [
      "None     2259\n",
      "doggo      97\n",
      "Name: doggo, dtype: int64\n"
     ]
    }
   ],
   "source": [
    "doggo = dog_rates_archive.doggo.value_counts()\n",
    "print(doggo)"
   ]
  },
  {
   "cell_type": "code",
   "execution_count": 24,
   "metadata": {},
   "outputs": [
    {
     "name": "stdout",
     "output_type": "stream",
     "text": [
      "None       2346\n",
      "floofer      10\n",
      "Name: floofer, dtype: int64\n"
     ]
    }
   ],
   "source": [
    "floofer = dog_rates_archive.floofer.value_counts()\n",
    "print(floofer)"
   ]
  },
  {
   "cell_type": "code",
   "execution_count": 25,
   "metadata": {},
   "outputs": [
    {
     "name": "stdout",
     "output_type": "stream",
     "text": [
      "None      2099\n",
      "pupper     257\n",
      "Name: pupper, dtype: int64\n"
     ]
    }
   ],
   "source": [
    "pupper = dog_rates_archive.pupper.value_counts()\n",
    "print(pupper)"
   ]
  },
  {
   "cell_type": "code",
   "execution_count": 26,
   "metadata": {},
   "outputs": [
    {
     "name": "stdout",
     "output_type": "stream",
     "text": [
      "None     2326\n",
      "puppo      30\n",
      "Name: puppo, dtype: int64\n"
     ]
    }
   ],
   "source": [
    "puppo = dog_rates_archive.puppo.value_counts()\n",
    "print(puppo)"
   ]
  },
  {
   "cell_type": "markdown",
   "metadata": {},
   "source": [
    "Using the value.count function, I can see that the dog stages have different None values and will need to be cleaned for proper analysis."
   ]
  },
  {
   "cell_type": "markdown",
   "metadata": {},
   "source": [
    "## Issues"
   ]
  },
  {
   "cell_type": "markdown",
   "metadata": {},
   "source": [
    "### Quality issues\n",
    "1. Retweets and Replies in the dog_rates_archive: Remove retweeted tweets\n",
    "\n",
    "2. Alot of columns: Drop redundant columns \n",
    "\n",
    "3. Null values: Remove null values\n",
    "\n",
    "4. Incorrect Datatypes: Fix the appropriate Datatypes to each columns\n",
    "\n",
    "5. Abbreviated names: Rename columns headers to more accurate names\n",
    "\n",
    "6. Incorrect names in the name column: Corrrect invalid names like a,an etc.\n",
    "\n",
    "7. Ratings figures: Remove rating_denominator not equal to 10 and remove rating_numerator before 10 and after 15\n",
    "\n",
    "8. Tweet links: Remove links in text"
   ]
  },
  {
   "cell_type": "markdown",
   "metadata": {
    "extensions": {
     "jupyter_dashboards": {
      "version": 1,
      "views": {
       "grid_default": {
        "col": 0,
        "height": 7,
        "hidden": false,
        "row": 40,
        "width": 12
       },
       "report_default": {
        "hidden": false
       }
      }
     }
    }
   },
   "source": [
    "### Tidiness issues\n",
    "1. Merge the 4 different dog_stages into one column to avoid having a bulky dataset.\n",
    "\n",
    "2. Concise Dataframe: Merge the 3 dataframes after correcting quality issues to give a comprehensive dataset."
   ]
  },
  {
   "cell_type": "markdown",
   "metadata": {
    "extensions": {
     "jupyter_dashboards": {
      "version": 1,
      "views": {
       "grid_default": {
        "col": 4,
        "height": 4,
        "hidden": false,
        "row": 32,
        "width": 4
       },
       "report_default": {
        "hidden": false
       }
      }
     }
    }
   },
   "source": [
    "## Cleaning Data\n",
    "The 3 dataframes would be cleaned for quality and tidy information using the Define, Code and Test method. "
   ]
  },
  {
   "cell_type": "code",
   "execution_count": 27,
   "metadata": {},
   "outputs": [],
   "source": [
    "# Make copies of original pieces of data\n",
    "dog_rates_archive_clean = dog_rates_archive.copy()\n",
    "img_predictions_clean = img_predictions.copy()\n",
    "tweets_clean = tweets.copy()"
   ]
  },
  {
   "cell_type": "markdown",
   "metadata": {},
   "source": [
    "### Issue #1: Retweets and Replies in the dog_rates_archive: Remove retweeted tweets"
   ]
  },
  {
   "cell_type": "markdown",
   "metadata": {},
   "source": [
    "#### Define: Delete retweeted tweets (Only want original ratings that have images)"
   ]
  },
  {
   "cell_type": "markdown",
   "metadata": {},
   "source": [
    "#### Code"
   ]
  },
  {
   "cell_type": "code",
   "execution_count": 28,
   "metadata": {},
   "outputs": [],
   "source": [
    "#Drop replied tweets\n",
    "dog_rates_archive_clean = dog_rates_archive_clean[dog_rates_archive_clean['in_reply_to_status_id'].isnull()]"
   ]
  },
  {
   "cell_type": "code",
   "execution_count": 29,
   "metadata": {},
   "outputs": [],
   "source": [
    "#Drop retweets from the dog_rates_dataframe\n",
    "dog_rates_archive_clean = dog_rates_archive_clean[dog_rates_archive_clean['retweeted_status_id'].isnull()]"
   ]
  },
  {
   "cell_type": "markdown",
   "metadata": {},
   "source": [
    "#### Test"
   ]
  },
  {
   "cell_type": "code",
   "execution_count": 30,
   "metadata": {},
   "outputs": [
    {
     "name": "stdout",
     "output_type": "stream",
     "text": [
      "<class 'pandas.core.frame.DataFrame'>\n",
      "Int64Index: 2097 entries, 0 to 2355\n",
      "Data columns (total 17 columns):\n",
      "tweet_id                      2097 non-null int64\n",
      "in_reply_to_status_id         0 non-null float64\n",
      "in_reply_to_user_id           0 non-null float64\n",
      "timestamp                     2097 non-null object\n",
      "source                        2097 non-null object\n",
      "text                          2097 non-null object\n",
      "retweeted_status_id           0 non-null float64\n",
      "retweeted_status_user_id      0 non-null float64\n",
      "retweeted_status_timestamp    0 non-null object\n",
      "expanded_urls                 2094 non-null object\n",
      "rating_numerator              2097 non-null int64\n",
      "rating_denominator            2097 non-null int64\n",
      "name                          2097 non-null object\n",
      "doggo                         2097 non-null object\n",
      "floofer                       2097 non-null object\n",
      "pupper                        2097 non-null object\n",
      "puppo                         2097 non-null object\n",
      "dtypes: float64(4), int64(3), object(10)\n",
      "memory usage: 294.9+ KB\n"
     ]
    }
   ],
   "source": [
    "dog_rates_archive_clean.info()"
   ]
  },
  {
   "cell_type": "code",
   "execution_count": 31,
   "metadata": {},
   "outputs": [
    {
     "data": {
      "text/plain": [
       "NaN    2097\n",
       "Name: retweeted_status_id, dtype: int64"
      ]
     },
     "execution_count": 31,
     "metadata": {},
     "output_type": "execute_result"
    }
   ],
   "source": [
    "dog_rates_archive_clean.retweeted_status_id.value_counts(dropna=False)"
   ]
  },
  {
   "cell_type": "markdown",
   "metadata": {},
   "source": [
    "### Issue #2: Alot of columns: Drop redundant columns"
   ]
  },
  {
   "cell_type": "markdown",
   "metadata": {},
   "source": [
    "#### Define: Remove redundant columns and duplicates"
   ]
  },
  {
   "cell_type": "markdown",
   "metadata": {},
   "source": [
    "#### Code"
   ]
  },
  {
   "cell_type": "code",
   "execution_count": 32,
   "metadata": {},
   "outputs": [],
   "source": [
    "#Drop columns we don't need\n",
    "dog_rates_archive_clean = dog_rates_archive_clean.drop('retweeted_status_id', 1)\n",
    "dog_rates_archive_clean = dog_rates_archive_clean.drop('retweeted_status_user_id', 1)\n",
    "dog_rates_archive_clean = dog_rates_archive_clean.drop('retweeted_status_timestamp', 1)\n",
    "dog_rates_archive_clean = dog_rates_archive_clean.drop('in_reply_to_user_id', 1)\n",
    "dog_rates_archive_clean = dog_rates_archive_clean.drop('in_reply_to_status_id', 1)"
   ]
  },
  {
   "cell_type": "code",
   "execution_count": 33,
   "metadata": {},
   "outputs": [],
   "source": [
    "#Drop duplicated tweet_id\n",
    "dog_rates_archive_clean = dog_rates_archive_clean.drop_duplicates()"
   ]
  },
  {
   "cell_type": "code",
   "execution_count": 34,
   "metadata": {},
   "outputs": [],
   "source": [
    "#Drop tweets with no pictures and pre\n",
    "img_predictions_clean = img_predictions_clean.dropna(subset = ['jpg_url'])"
   ]
  },
  {
   "cell_type": "markdown",
   "metadata": {},
   "source": [
    "#### Test"
   ]
  },
  {
   "cell_type": "code",
   "execution_count": 35,
   "metadata": {},
   "outputs": [
    {
     "name": "stdout",
     "output_type": "stream",
     "text": [
      "<class 'pandas.core.frame.DataFrame'>\n",
      "RangeIndex: 2356 entries, 0 to 2355\n",
      "Data columns (total 17 columns):\n",
      "tweet_id                      2356 non-null int64\n",
      "in_reply_to_status_id         78 non-null float64\n",
      "in_reply_to_user_id           78 non-null float64\n",
      "timestamp                     2356 non-null object\n",
      "source                        2356 non-null object\n",
      "text                          2356 non-null object\n",
      "retweeted_status_id           181 non-null float64\n",
      "retweeted_status_user_id      181 non-null float64\n",
      "retweeted_status_timestamp    181 non-null object\n",
      "expanded_urls                 2297 non-null object\n",
      "rating_numerator              2356 non-null int64\n",
      "rating_denominator            2356 non-null int64\n",
      "name                          2356 non-null object\n",
      "doggo                         2356 non-null object\n",
      "floofer                       2356 non-null object\n",
      "pupper                        2356 non-null object\n",
      "puppo                         2356 non-null object\n",
      "dtypes: float64(4), int64(3), object(10)\n",
      "memory usage: 313.0+ KB\n"
     ]
    }
   ],
   "source": [
    "dog_rates_archive.info()"
   ]
  },
  {
   "cell_type": "code",
   "execution_count": 36,
   "metadata": {},
   "outputs": [
    {
     "name": "stdout",
     "output_type": "stream",
     "text": [
      "<class 'pandas.core.frame.DataFrame'>\n",
      "RangeIndex: 2075 entries, 0 to 2074\n",
      "Data columns (total 12 columns):\n",
      "tweet_id    2075 non-null int64\n",
      "jpg_url     2075 non-null object\n",
      "img_num     2075 non-null int64\n",
      "p1          2075 non-null object\n",
      "p1_conf     2075 non-null float64\n",
      "p1_dog      2075 non-null bool\n",
      "p2          2075 non-null object\n",
      "p2_conf     2075 non-null float64\n",
      "p2_dog      2075 non-null bool\n",
      "p3          2075 non-null object\n",
      "p3_conf     2075 non-null float64\n",
      "p3_dog      2075 non-null bool\n",
      "dtypes: bool(3), float64(3), int64(2), object(4)\n",
      "memory usage: 152.1+ KB\n"
     ]
    }
   ],
   "source": [
    "img_predictions.info()"
   ]
  },
  {
   "cell_type": "markdown",
   "metadata": {},
   "source": [
    "### Issue #3: Null values: Remove null values"
   ]
  },
  {
   "cell_type": "markdown",
   "metadata": {
    "collapsed": true,
    "extensions": {
     "jupyter_dashboards": {
      "version": 1,
      "views": {
       "grid_default": {
        "hidden": true
       },
       "report_default": {
        "hidden": true
       }
      }
     }
    }
   },
   "source": [
    "#### Define: Drop Null values to avoid inaccurate conclusions"
   ]
  },
  {
   "cell_type": "markdown",
   "metadata": {},
   "source": [
    "#### Code"
   ]
  },
  {
   "cell_type": "code",
   "execution_count": 37,
   "metadata": {},
   "outputs": [],
   "source": [
    "dog_rates_archive_clean.dropna(axis='columns',how='any', inplace=True)"
   ]
  },
  {
   "cell_type": "markdown",
   "metadata": {},
   "source": [
    "#### Test"
   ]
  },
  {
   "cell_type": "code",
   "execution_count": 38,
   "metadata": {},
   "outputs": [
    {
     "name": "stdout",
     "output_type": "stream",
     "text": [
      "                tweet_id                  timestamp  \\\n",
      "0     892420643555336193  2017-08-01 16:23:56 +0000   \n",
      "1     892177421306343426  2017-08-01 00:17:27 +0000   \n",
      "2     891815181378084864  2017-07-31 00:18:03 +0000   \n",
      "3     891689557279858688  2017-07-30 15:58:51 +0000   \n",
      "4     891327558926688256  2017-07-29 16:00:24 +0000   \n",
      "5     891087950875897856  2017-07-29 00:08:17 +0000   \n",
      "6     890971913173991426  2017-07-28 16:27:12 +0000   \n",
      "7     890729181411237888  2017-07-28 00:22:40 +0000   \n",
      "8     890609185150312448  2017-07-27 16:25:51 +0000   \n",
      "9     890240255349198849  2017-07-26 15:59:51 +0000   \n",
      "10    890006608113172480  2017-07-26 00:31:25 +0000   \n",
      "11    889880896479866881  2017-07-25 16:11:53 +0000   \n",
      "12    889665388333682689  2017-07-25 01:55:32 +0000   \n",
      "13    889638837579907072  2017-07-25 00:10:02 +0000   \n",
      "14    889531135344209921  2017-07-24 17:02:04 +0000   \n",
      "15    889278841981685760  2017-07-24 00:19:32 +0000   \n",
      "16    888917238123831296  2017-07-23 00:22:39 +0000   \n",
      "17    888804989199671297  2017-07-22 16:56:37 +0000   \n",
      "18    888554962724278272  2017-07-22 00:23:06 +0000   \n",
      "20    888078434458587136  2017-07-20 16:49:33 +0000   \n",
      "21    887705289381826560  2017-07-19 16:06:48 +0000   \n",
      "22    887517139158093824  2017-07-19 03:39:09 +0000   \n",
      "23    887473957103951883  2017-07-19 00:47:34 +0000   \n",
      "24    887343217045368832  2017-07-18 16:08:03 +0000   \n",
      "25    887101392804085760  2017-07-18 00:07:08 +0000   \n",
      "26    886983233522544640  2017-07-17 16:17:36 +0000   \n",
      "27    886736880519319552  2017-07-16 23:58:41 +0000   \n",
      "28    886680336477933568  2017-07-16 20:14:00 +0000   \n",
      "29    886366144734445568  2017-07-15 23:25:31 +0000   \n",
      "31    886258384151887873  2017-07-15 16:17:19 +0000   \n",
      "...                  ...                        ...   \n",
      "2326  666411507551481857  2015-11-17 00:24:19 +0000   \n",
      "2327  666407126856765440  2015-11-17 00:06:54 +0000   \n",
      "2328  666396247373291520  2015-11-16 23:23:41 +0000   \n",
      "2329  666373753744588802  2015-11-16 21:54:18 +0000   \n",
      "2330  666362758909284353  2015-11-16 21:10:36 +0000   \n",
      "2331  666353288456101888  2015-11-16 20:32:58 +0000   \n",
      "2332  666345417576210432  2015-11-16 20:01:42 +0000   \n",
      "2333  666337882303524864  2015-11-16 19:31:45 +0000   \n",
      "2334  666293911632134144  2015-11-16 16:37:02 +0000   \n",
      "2335  666287406224695296  2015-11-16 16:11:11 +0000   \n",
      "2336  666273097616637952  2015-11-16 15:14:19 +0000   \n",
      "2337  666268910803644416  2015-11-16 14:57:41 +0000   \n",
      "2338  666104133288665088  2015-11-16 04:02:55 +0000   \n",
      "2339  666102155909144576  2015-11-16 03:55:04 +0000   \n",
      "2340  666099513787052032  2015-11-16 03:44:34 +0000   \n",
      "2341  666094000022159362  2015-11-16 03:22:39 +0000   \n",
      "2342  666082916733198337  2015-11-16 02:38:37 +0000   \n",
      "2343  666073100786774016  2015-11-16 01:59:36 +0000   \n",
      "2344  666071193221509120  2015-11-16 01:52:02 +0000   \n",
      "2345  666063827256086533  2015-11-16 01:22:45 +0000   \n",
      "2346  666058600524156928  2015-11-16 01:01:59 +0000   \n",
      "2347  666057090499244032  2015-11-16 00:55:59 +0000   \n",
      "2348  666055525042405380  2015-11-16 00:49:46 +0000   \n",
      "2349  666051853826850816  2015-11-16 00:35:11 +0000   \n",
      "2350  666050758794694657  2015-11-16 00:30:50 +0000   \n",
      "2351  666049248165822465  2015-11-16 00:24:50 +0000   \n",
      "2352  666044226329800704  2015-11-16 00:04:52 +0000   \n",
      "2353  666033412701032449  2015-11-15 23:21:54 +0000   \n",
      "2354  666029285002620928  2015-11-15 23:05:30 +0000   \n",
      "2355  666020888022790149  2015-11-15 22:32:08 +0000   \n",
      "\n",
      "                                                 source  \\\n",
      "0     <a href=\"http://twitter.com/download/iphone\" r...   \n",
      "1     <a href=\"http://twitter.com/download/iphone\" r...   \n",
      "2     <a href=\"http://twitter.com/download/iphone\" r...   \n",
      "3     <a href=\"http://twitter.com/download/iphone\" r...   \n",
      "4     <a href=\"http://twitter.com/download/iphone\" r...   \n",
      "5     <a href=\"http://twitter.com/download/iphone\" r...   \n",
      "6     <a href=\"http://twitter.com/download/iphone\" r...   \n",
      "7     <a href=\"http://twitter.com/download/iphone\" r...   \n",
      "8     <a href=\"http://twitter.com/download/iphone\" r...   \n",
      "9     <a href=\"http://twitter.com/download/iphone\" r...   \n",
      "10    <a href=\"http://twitter.com/download/iphone\" r...   \n",
      "11    <a href=\"http://twitter.com/download/iphone\" r...   \n",
      "12    <a href=\"http://twitter.com/download/iphone\" r...   \n",
      "13    <a href=\"http://twitter.com/download/iphone\" r...   \n",
      "14    <a href=\"http://twitter.com/download/iphone\" r...   \n",
      "15    <a href=\"http://twitter.com/download/iphone\" r...   \n",
      "16    <a href=\"http://twitter.com/download/iphone\" r...   \n",
      "17    <a href=\"http://twitter.com/download/iphone\" r...   \n",
      "18    <a href=\"http://twitter.com/download/iphone\" r...   \n",
      "20    <a href=\"http://twitter.com/download/iphone\" r...   \n",
      "21    <a href=\"http://twitter.com/download/iphone\" r...   \n",
      "22    <a href=\"http://twitter.com/download/iphone\" r...   \n",
      "23    <a href=\"http://twitter.com/download/iphone\" r...   \n",
      "24    <a href=\"http://twitter.com/download/iphone\" r...   \n",
      "25    <a href=\"http://twitter.com/download/iphone\" r...   \n",
      "26    <a href=\"http://twitter.com/download/iphone\" r...   \n",
      "27    <a href=\"http://twitter.com/download/iphone\" r...   \n",
      "28    <a href=\"http://twitter.com/download/iphone\" r...   \n",
      "29    <a href=\"http://twitter.com/download/iphone\" r...   \n",
      "31    <a href=\"http://twitter.com/download/iphone\" r...   \n",
      "...                                                 ...   \n",
      "2326  <a href=\"http://twitter.com/download/iphone\" r...   \n",
      "2327  <a href=\"http://twitter.com/download/iphone\" r...   \n",
      "2328  <a href=\"http://twitter.com/download/iphone\" r...   \n",
      "2329  <a href=\"http://twitter.com/download/iphone\" r...   \n",
      "2330  <a href=\"http://twitter.com/download/iphone\" r...   \n",
      "2331  <a href=\"http://twitter.com/download/iphone\" r...   \n",
      "2332  <a href=\"http://twitter.com/download/iphone\" r...   \n",
      "2333  <a href=\"http://twitter.com/download/iphone\" r...   \n",
      "2334  <a href=\"http://twitter.com/download/iphone\" r...   \n",
      "2335  <a href=\"http://twitter.com/download/iphone\" r...   \n",
      "2336  <a href=\"http://twitter.com/download/iphone\" r...   \n",
      "2337  <a href=\"http://twitter.com/download/iphone\" r...   \n",
      "2338  <a href=\"http://twitter.com/download/iphone\" r...   \n",
      "2339  <a href=\"http://twitter.com/download/iphone\" r...   \n",
      "2340  <a href=\"http://twitter.com/download/iphone\" r...   \n",
      "2341  <a href=\"http://twitter.com/download/iphone\" r...   \n",
      "2342  <a href=\"http://twitter.com/download/iphone\" r...   \n",
      "2343  <a href=\"http://twitter.com/download/iphone\" r...   \n",
      "2344  <a href=\"http://twitter.com/download/iphone\" r...   \n",
      "2345  <a href=\"http://twitter.com/download/iphone\" r...   \n",
      "2346  <a href=\"http://twitter.com/download/iphone\" r...   \n",
      "2347  <a href=\"http://twitter.com/download/iphone\" r...   \n",
      "2348  <a href=\"http://twitter.com/download/iphone\" r...   \n",
      "2349  <a href=\"http://twitter.com/download/iphone\" r...   \n",
      "2350  <a href=\"http://twitter.com/download/iphone\" r...   \n",
      "2351  <a href=\"http://twitter.com/download/iphone\" r...   \n",
      "2352  <a href=\"http://twitter.com/download/iphone\" r...   \n",
      "2353  <a href=\"http://twitter.com/download/iphone\" r...   \n",
      "2354  <a href=\"http://twitter.com/download/iphone\" r...   \n",
      "2355  <a href=\"http://twitter.com/download/iphone\" r...   \n",
      "\n",
      "                                                   text  rating_numerator  \\\n",
      "0     This is Phineas. He's a mystical boy. Only eve...                13   \n",
      "1     This is Tilly. She's just checking pup on you....                13   \n",
      "2     This is Archie. He is a rare Norwegian Pouncin...                12   \n",
      "3     This is Darla. She commenced a snooze mid meal...                13   \n",
      "4     This is Franklin. He would like you to stop ca...                12   \n",
      "5     Here we have a majestic great white breaching ...                13   \n",
      "6     Meet Jax. He enjoys ice cream so much he gets ...                13   \n",
      "7     When you watch your owner call another dog a g...                13   \n",
      "8     This is Zoey. She doesn't want to be one of th...                13   \n",
      "9     This is Cassie. She is a college pup. Studying...                14   \n",
      "10    This is Koda. He is a South Australian decksha...                13   \n",
      "11    This is Bruno. He is a service shark. Only get...                13   \n",
      "12    Here's a puppo that seems to be on the fence a...                13   \n",
      "13    This is Ted. He does his best. Sometimes that'...                12   \n",
      "14    This is Stuart. He's sporting his favorite fan...                13   \n",
      "15    This is Oliver. You're witnessing one of his m...                13   \n",
      "16    This is Jim. He found a fren. Taught him how t...                12   \n",
      "17    This is Zeke. He has a new stick. Very proud o...                13   \n",
      "18    This is Ralphus. He's powering up. Attempting ...                13   \n",
      "20    This is Gerald. He was just told he didn't get...                12   \n",
      "21    This is Jeffrey. He has a monopoly on the pool...                13   \n",
      "22    I've yet to rate a Venezuelan Hover Wiener. Th...                14   \n",
      "23    This is Canela. She attempted some fancy porch...                13   \n",
      "24    You may not have known you needed to see this ...                13   \n",
      "25    This... is a Jubilant Antarctic House Bear. We...                12   \n",
      "26    This is Maya. She's very shy. Rarely leaves he...                13   \n",
      "27    This is Mingus. He's a wonderful father to his...                13   \n",
      "28    This is Derek. He's late for a dog meeting. 13...                13   \n",
      "29    This is Roscoe. Another pupper fallen victim t...                12   \n",
      "31    This is Waffles. His doggles are pupside down....                13   \n",
      "...                                                 ...               ...   \n",
      "2326  This is quite the dog. Gets really excited whe...                 2   \n",
      "2327  This is a southern Vesuvius bumblegruff. Can d...                 7   \n",
      "2328  Oh goodness. A super rare northeast Qdoba kang...                 9   \n",
      "2329  Those are sunglasses and a jean jacket. 11/10 ...                11   \n",
      "2330  Unique dog here. Very small. Lives in containe...                 6   \n",
      "2331  Here we have a mixed Asiago from the Galápagos...                 8   \n",
      "2332  Look at this jokester thinking seat belt laws ...                10   \n",
      "2333  This is an extremely rare horned Parthenon. No...                 9   \n",
      "2334  This is a funny dog. Weird toes. Won't come do...                 3   \n",
      "2335  This is an Albanian 3 1/2 legged  Episcopalian...                 1   \n",
      "2336     Can take selfies 11/10 https://t.co/ws2AMaNwPW                11   \n",
      "2337  Very concerned about fellow dog trapped in com...                10   \n",
      "2338  Not familiar with this breed. No tail (weird)....                 1   \n",
      "2339  Oh my. Here you are seeing an Adobe Setter giv...                11   \n",
      "2340  Can stand on stump for what seems like a while...                 8   \n",
      "2341  This appears to be a Mongolian Presbyterian mi...                 9   \n",
      "2342  Here we have a well-established sunblockerspan...                 6   \n",
      "2343  Let's hope this flight isn't Malaysian (lol). ...                10   \n",
      "2344  Here we have a northern speckled Rhododendron....                 9   \n",
      "2345  This is the happiest dog you will ever see. Ve...                10   \n",
      "2346  Here is the Rand Paul of retrievers folks! He'...                 8   \n",
      "2347  My oh my. This is a rare blond Canadian terrie...                 9   \n",
      "2348  Here is a Siberian heavily armored polar bear ...                10   \n",
      "2349  This is an odd dog. Hard on the outside but lo...                 2   \n",
      "2350  This is a truly beautiful English Wilson Staff...                10   \n",
      "2351  Here we have a 1949 1st generation vulpix. Enj...                 5   \n",
      "2352  This is a purebred Piers Morgan. Loves to Netf...                 6   \n",
      "2353  Here is a very happy pup. Big fan of well-main...                 9   \n",
      "2354  This is a western brown Mitsubishi terrier. Up...                 7   \n",
      "2355  Here we have a Japanese Irish Setter. Lost eye...                 8   \n",
      "\n",
      "      rating_denominator      name  doggo floofer  pupper  puppo  \n",
      "0                     10   Phineas   None    None    None   None  \n",
      "1                     10     Tilly   None    None    None   None  \n",
      "2                     10    Archie   None    None    None   None  \n",
      "3                     10     Darla   None    None    None   None  \n",
      "4                     10  Franklin   None    None    None   None  \n",
      "5                     10      None   None    None    None   None  \n",
      "6                     10       Jax   None    None    None   None  \n",
      "7                     10      None   None    None    None   None  \n",
      "8                     10      Zoey   None    None    None   None  \n",
      "9                     10    Cassie  doggo    None    None   None  \n",
      "10                    10      Koda   None    None    None   None  \n",
      "11                    10     Bruno   None    None    None   None  \n",
      "12                    10      None   None    None    None  puppo  \n",
      "13                    10       Ted   None    None    None   None  \n",
      "14                    10    Stuart   None    None    None  puppo  \n",
      "15                    10    Oliver   None    None    None   None  \n",
      "16                    10       Jim   None    None    None   None  \n",
      "17                    10      Zeke   None    None    None   None  \n",
      "18                    10   Ralphus   None    None    None   None  \n",
      "20                    10    Gerald   None    None    None   None  \n",
      "21                    10   Jeffrey   None    None    None   None  \n",
      "22                    10      such   None    None    None   None  \n",
      "23                    10    Canela   None    None    None   None  \n",
      "24                    10      None   None    None    None   None  \n",
      "25                    10      None   None    None    None   None  \n",
      "26                    10      Maya   None    None    None   None  \n",
      "27                    10    Mingus   None    None    None   None  \n",
      "28                    10     Derek   None    None    None   None  \n",
      "29                    10    Roscoe   None    None  pupper   None  \n",
      "31                    10   Waffles   None    None    None   None  \n",
      "...                  ...       ...    ...     ...     ...    ...  \n",
      "2326                  10     quite   None    None    None   None  \n",
      "2327                  10         a   None    None    None   None  \n",
      "2328                  10      None   None    None    None   None  \n",
      "2329                  10      None   None    None    None   None  \n",
      "2330                  10      None   None    None    None   None  \n",
      "2331                  10      None   None    None    None   None  \n",
      "2332                  10      None   None    None    None   None  \n",
      "2333                  10        an   None    None    None   None  \n",
      "2334                  10         a   None    None    None   None  \n",
      "2335                   2        an   None    None    None   None  \n",
      "2336                  10      None   None    None    None   None  \n",
      "2337                  10      None   None    None    None   None  \n",
      "2338                  10      None   None    None    None   None  \n",
      "2339                  10      None   None    None    None   None  \n",
      "2340                  10      None   None    None    None   None  \n",
      "2341                  10      None   None    None    None   None  \n",
      "2342                  10      None   None    None    None   None  \n",
      "2343                  10      None   None    None    None   None  \n",
      "2344                  10      None   None    None    None   None  \n",
      "2345                  10       the   None    None    None   None  \n",
      "2346                  10       the   None    None    None   None  \n",
      "2347                  10         a   None    None    None   None  \n",
      "2348                  10         a   None    None    None   None  \n",
      "2349                  10        an   None    None    None   None  \n",
      "2350                  10         a   None    None    None   None  \n",
      "2351                  10      None   None    None    None   None  \n",
      "2352                  10         a   None    None    None   None  \n",
      "2353                  10         a   None    None    None   None  \n",
      "2354                  10         a   None    None    None   None  \n",
      "2355                  10      None   None    None    None   None  \n",
      "\n",
      "[2097 rows x 11 columns]\n"
     ]
    }
   ],
   "source": [
    "print(dog_rates_archive_clean)"
   ]
  },
  {
   "cell_type": "code",
   "execution_count": 39,
   "metadata": {},
   "outputs": [
    {
     "name": "stdout",
     "output_type": "stream",
     "text": [
      "<class 'pandas.core.frame.DataFrame'>\n",
      "Int64Index: 2097 entries, 0 to 2355\n",
      "Data columns (total 11 columns):\n",
      "tweet_id              2097 non-null int64\n",
      "timestamp             2097 non-null object\n",
      "source                2097 non-null object\n",
      "text                  2097 non-null object\n",
      "rating_numerator      2097 non-null int64\n",
      "rating_denominator    2097 non-null int64\n",
      "name                  2097 non-null object\n",
      "doggo                 2097 non-null object\n",
      "floofer               2097 non-null object\n",
      "pupper                2097 non-null object\n",
      "puppo                 2097 non-null object\n",
      "dtypes: int64(3), object(8)\n",
      "memory usage: 196.6+ KB\n"
     ]
    }
   ],
   "source": [
    "dog_rates_archive_clean.info()"
   ]
  },
  {
   "cell_type": "markdown",
   "metadata": {},
   "source": [
    "### Issue #4: Incorrect Datatypes: Fix the appropriate Datatypes to each columns"
   ]
  },
  {
   "cell_type": "markdown",
   "metadata": {},
   "source": [
    "#### Define: Changing the datatypes of some columns to the appropriate datatypes"
   ]
  },
  {
   "cell_type": "markdown",
   "metadata": {},
   "source": [
    "#### Code"
   ]
  },
  {
   "cell_type": "code",
   "execution_count": 40,
   "metadata": {},
   "outputs": [],
   "source": [
    "#Change time_stamp to datetime datatype \n",
    "\n",
    "dog_rates_archive_clean['timestamp'] = pd.to_datetime(dog_rates_archive_clean.timestamp)"
   ]
  },
  {
   "cell_type": "code",
   "execution_count": 41,
   "metadata": {},
   "outputs": [],
   "source": [
    "#Change tweet_id to str datatype\n",
    "dog_rates_archive_clean['tweet_id'] = dog_rates_archive_clean['tweet_id'].astype(str)\n",
    "img_predictions_clean['tweet_id'] = img_predictions_clean['tweet_id'].astype(str)\n",
    "tweets_clean['tweet_id'] = tweets_clean['tweet_id'].astype(str)"
   ]
  },
  {
   "cell_type": "code",
   "execution_count": 42,
   "metadata": {},
   "outputs": [],
   "source": [
    "#Change rating_numerator to float datatype\n",
    "dog_rates_archive_clean['rating_numerator'] = dog_rates_archive_clean['rating_numerator'].astype(float)"
   ]
  },
  {
   "cell_type": "code",
   "execution_count": 43,
   "metadata": {},
   "outputs": [],
   "source": [
    "#Change rating_denominator to float datatype\n",
    "dog_rates_archive_clean['rating_denominator'] = dog_rates_archive_clean['rating_denominator'].astype(float)"
   ]
  },
  {
   "cell_type": "markdown",
   "metadata": {},
   "source": [
    "#### Test"
   ]
  },
  {
   "cell_type": "code",
   "execution_count": 44,
   "metadata": {},
   "outputs": [
    {
     "name": "stdout",
     "output_type": "stream",
     "text": [
      "<class 'pandas.core.frame.DataFrame'>\n",
      "Int64Index: 2097 entries, 0 to 2355\n",
      "Data columns (total 11 columns):\n",
      "tweet_id              2097 non-null object\n",
      "timestamp             2097 non-null datetime64[ns]\n",
      "source                2097 non-null object\n",
      "text                  2097 non-null object\n",
      "rating_numerator      2097 non-null float64\n",
      "rating_denominator    2097 non-null float64\n",
      "name                  2097 non-null object\n",
      "doggo                 2097 non-null object\n",
      "floofer               2097 non-null object\n",
      "pupper                2097 non-null object\n",
      "puppo                 2097 non-null object\n",
      "dtypes: datetime64[ns](1), float64(2), object(8)\n",
      "memory usage: 196.6+ KB\n",
      "<class 'pandas.core.frame.DataFrame'>\n",
      "Int64Index: 2075 entries, 0 to 2074\n",
      "Data columns (total 12 columns):\n",
      "tweet_id    2075 non-null object\n",
      "jpg_url     2075 non-null object\n",
      "img_num     2075 non-null int64\n",
      "p1          2075 non-null object\n",
      "p1_conf     2075 non-null float64\n",
      "p1_dog      2075 non-null bool\n",
      "p2          2075 non-null object\n",
      "p2_conf     2075 non-null float64\n",
      "p2_dog      2075 non-null bool\n",
      "p3          2075 non-null object\n",
      "p3_conf     2075 non-null float64\n",
      "p3_dog      2075 non-null bool\n",
      "dtypes: bool(3), float64(3), int64(1), object(5)\n",
      "memory usage: 168.2+ KB\n",
      "<class 'pandas.core.frame.DataFrame'>\n",
      "RangeIndex: 2354 entries, 0 to 2353\n",
      "Data columns (total 4 columns):\n",
      "tweet_id          2354 non-null object\n",
      "retweet_count     2354 non-null int64\n",
      "favorite_count    2354 non-null int64\n",
      "create_date       2354 non-null object\n",
      "dtypes: int64(2), object(2)\n",
      "memory usage: 73.6+ KB\n"
     ]
    }
   ],
   "source": [
    "dog_rates_archive_clean.info()\n",
    "img_predictions_clean.info()\n",
    "tweets_clean.info()"
   ]
  },
  {
   "cell_type": "markdown",
   "metadata": {},
   "source": [
    "### Issue #5: Abbreviated names: Rename columns headers to more accurate names in img_predictions"
   ]
  },
  {
   "cell_type": "markdown",
   "metadata": {},
   "source": [
    "#### Define: Renaming some columns for easy understanding"
   ]
  },
  {
   "cell_type": "markdown",
   "metadata": {},
   "source": [
    "#### Code"
   ]
  },
  {
   "cell_type": "code",
   "execution_count": 45,
   "metadata": {},
   "outputs": [],
   "source": [
    "img_predictions_clean.rename(columns={'p1': 'Prediction1', 'p2': 'Prediction2', 'p3': 'Prediction3'}, inplace=True)\n",
    "img_predictions_clean.rename(columns={'p1_conf': 'Prediction1_conf', 'p1_dog': 'Prediction1_dog'}, inplace=True)\n",
    "img_predictions_clean.rename(columns={'p2_conf': 'Prediction2_conf', 'p2_dog': 'Prediction2_dog'}, inplace=True)\n",
    "img_predictions_clean.rename(columns={'p3_conf': 'Prediction3_conf', 'p3_dog': 'Prediction3_dog'}, inplace=True)"
   ]
  },
  {
   "cell_type": "code",
   "execution_count": 46,
   "metadata": {},
   "outputs": [],
   "source": [
    "#Drop configuration columns\n",
    "img_predictions_clean.drop(columns=['Prediction1_conf', 'Prediction2_conf', 'Prediction3_conf'], inplace=True)"
   ]
  },
  {
   "cell_type": "markdown",
   "metadata": {},
   "source": [
    "#### Test"
   ]
  },
  {
   "cell_type": "code",
   "execution_count": 47,
   "metadata": {},
   "outputs": [
    {
     "name": "stdout",
     "output_type": "stream",
     "text": [
      "<class 'pandas.core.frame.DataFrame'>\n",
      "Int64Index: 2075 entries, 0 to 2074\n",
      "Data columns (total 9 columns):\n",
      "tweet_id           2075 non-null object\n",
      "jpg_url            2075 non-null object\n",
      "img_num            2075 non-null int64\n",
      "Prediction1        2075 non-null object\n",
      "Prediction1_dog    2075 non-null bool\n",
      "Prediction2        2075 non-null object\n",
      "Prediction2_dog    2075 non-null bool\n",
      "Prediction3        2075 non-null object\n",
      "Prediction3_dog    2075 non-null bool\n",
      "dtypes: bool(3), int64(1), object(5)\n",
      "memory usage: 119.6+ KB\n"
     ]
    }
   ],
   "source": [
    "img_predictions_clean.info()"
   ]
  },
  {
   "cell_type": "markdown",
   "metadata": {},
   "source": [
    "### Issue #6: Incorrect names in the name column: Corrrect invalid names like a,an etc."
   ]
  },
  {
   "cell_type": "markdown",
   "metadata": {},
   "source": [
    "#### Define: Correct invalid names to avoid inaccurate conclusion"
   ]
  },
  {
   "cell_type": "markdown",
   "metadata": {},
   "source": [
    "#### code"
   ]
  },
  {
   "cell_type": "code",
   "execution_count": 48,
   "metadata": {
    "scrolled": true
   },
   "outputs": [],
   "source": [
    "#correct incorrect names\n",
    "dog_rates_archive_clean.name = dog_rates_archive_clean.name.str.replace('^[a-z]+', 'None')"
   ]
  },
  {
   "cell_type": "markdown",
   "metadata": {},
   "source": [
    "#### Test"
   ]
  },
  {
   "cell_type": "code",
   "execution_count": 49,
   "metadata": {},
   "outputs": [
    {
     "data": {
      "text/plain": [
       "None       707\n",
       "Charlie     11\n",
       "Lucy        11\n",
       "Oliver      10\n",
       "Cooper      10\n",
       "Tucker       9\n",
       "Penny        9\n",
       "Sadie        8\n",
       "Winston      8\n",
       "Lola         8\n",
       "Daisy        7\n",
       "Toby         7\n",
       "Stanley      6\n",
       "Jax          6\n",
       "Bo           6\n",
       "Oscar        6\n",
       "Bella        6\n",
       "Koda         6\n",
       "Bailey       6\n",
       "Chester      5\n",
       "Louis        5\n",
       "Bentley      5\n",
       "Leo          5\n",
       "Rusty        5\n",
       "Buddy        5\n",
       "Dave         5\n",
       "Milo         5\n",
       "Scout        5\n",
       "Gary         4\n",
       "Gus          4\n",
       "          ... \n",
       "Mason        1\n",
       "Erik         1\n",
       "Georgie      1\n",
       "Jerome       1\n",
       "Joshwa       1\n",
       "Jaycob       1\n",
       "Kenzie       1\n",
       "Marvin       1\n",
       "Petrick      1\n",
       "Shadoe       1\n",
       "Brockly      1\n",
       "Dobby        1\n",
       "Obie         1\n",
       "Sweets       1\n",
       "Barry        1\n",
       "Cora         1\n",
       "Jamesy       1\n",
       "Mike         1\n",
       "Emanuel      1\n",
       "Bobbay       1\n",
       "Dante        1\n",
       "Pippin       1\n",
       "Sobe         1\n",
       "Iggy         1\n",
       "Jed          1\n",
       "Tyrone       1\n",
       "Divine       1\n",
       "Happy        1\n",
       "Dot          1\n",
       "Boots        1\n",
       "Name: name, Length: 930, dtype: int64"
      ]
     },
     "execution_count": 49,
     "metadata": {},
     "output_type": "execute_result"
    }
   ],
   "source": [
    "dog_rates_archive_clean['name'].value_counts()"
   ]
  },
  {
   "cell_type": "markdown",
   "metadata": {},
   "source": [
    "### Issue #7: Ratings figures: Remove rating_denominator not equal to 10 and remove rating_numerator before 10 and after 15"
   ]
  },
  {
   "cell_type": "markdown",
   "metadata": {},
   "source": [
    "#### Define: Inaccurate denominator and numerator rating, that needs to be cleaned"
   ]
  },
  {
   "cell_type": "markdown",
   "metadata": {},
   "source": [
    "#### Code"
   ]
  },
  {
   "cell_type": "code",
   "execution_count": 50,
   "metadata": {},
   "outputs": [],
   "source": [
    "#Remove rows with denominator != 10\n",
    "dog_rates_archive_clean.drop(dog_rates_archive_clean[dog_rates_archive_clean.rating_denominator != 10].index, inplace = True)"
   ]
  },
  {
   "cell_type": "code",
   "execution_count": 51,
   "metadata": {},
   "outputs": [],
   "source": [
    "#Remove rows with numerator less than 10 and more than 15\n",
    "dog_rates_archive_clean = dog_rates_archive_clean[(dog_rates_archive_clean['rating_numerator'] >= 10) & (dog_rates_archive_clean['rating_numerator']<= 15)]"
   ]
  },
  {
   "cell_type": "code",
   "execution_count": 52,
   "metadata": {},
   "outputs": [],
   "source": [
    "dog_rates_archive_clean['rating_numerator'] = dog_rates_archive_clean['rating_numerator'].astype(float)\n",
    "dog_rates_archive_clean['rating_denominator'] = dog_rates_archive_clean['rating_denominator'].astype(float)"
   ]
  },
  {
   "cell_type": "code",
   "execution_count": 53,
   "metadata": {},
   "outputs": [],
   "source": [
    "decimal_rating=dog_rates_archive_clean.text.str.extract('((?:\\d+\\.)?\\d+)\\/(\\d+)', expand=True)"
   ]
  },
  {
   "cell_type": "markdown",
   "metadata": {},
   "source": [
    "#### Test"
   ]
  },
  {
   "cell_type": "code",
   "execution_count": 54,
   "metadata": {},
   "outputs": [
    {
     "data": {
      "text/html": [
       "<div>\n",
       "<style scoped>\n",
       "    .dataframe tbody tr th:only-of-type {\n",
       "        vertical-align: middle;\n",
       "    }\n",
       "\n",
       "    .dataframe tbody tr th {\n",
       "        vertical-align: top;\n",
       "    }\n",
       "\n",
       "    .dataframe thead th {\n",
       "        text-align: right;\n",
       "    }\n",
       "</style>\n",
       "<table border=\"1\" class=\"dataframe\">\n",
       "  <thead>\n",
       "    <tr style=\"text-align: right;\">\n",
       "      <th></th>\n",
       "      <th>tweet_id</th>\n",
       "      <th>timestamp</th>\n",
       "      <th>source</th>\n",
       "      <th>text</th>\n",
       "      <th>rating_numerator</th>\n",
       "      <th>rating_denominator</th>\n",
       "      <th>name</th>\n",
       "      <th>doggo</th>\n",
       "      <th>floofer</th>\n",
       "      <th>pupper</th>\n",
       "      <th>puppo</th>\n",
       "    </tr>\n",
       "  </thead>\n",
       "  <tbody>\n",
       "  </tbody>\n",
       "</table>\n",
       "</div>"
      ],
      "text/plain": [
       "Empty DataFrame\n",
       "Columns: [tweet_id, timestamp, source, text, rating_numerator, rating_denominator, name, doggo, floofer, pupper, puppo]\n",
       "Index: []"
      ]
     },
     "execution_count": 54,
     "metadata": {},
     "output_type": "execute_result"
    }
   ],
   "source": [
    "dog_rates_archive_clean[dog_rates_archive_clean['rating_denominator'] != 10]"
   ]
  },
  {
   "cell_type": "code",
   "execution_count": 55,
   "metadata": {},
   "outputs": [
    {
     "data": {
      "text/plain": [
       "12.0    486\n",
       "10.0    436\n",
       "11.0    413\n",
       "13.0    287\n",
       "14.0     38\n",
       "Name: rating_numerator, dtype: int64"
      ]
     },
     "execution_count": 55,
     "metadata": {},
     "output_type": "execute_result"
    }
   ],
   "source": [
    "dog_rates_archive_clean.rating_numerator.value_counts()"
   ]
  },
  {
   "cell_type": "markdown",
   "metadata": {},
   "source": [
    "### Issue #8: Tweet links: Remove http links in text"
   ]
  },
  {
   "cell_type": "markdown",
   "metadata": {},
   "source": [
    "#### Define: Remove links to improve data quality"
   ]
  },
  {
   "cell_type": "markdown",
   "metadata": {},
   "source": [
    "#### Code"
   ]
  },
  {
   "cell_type": "code",
   "execution_count": 56,
   "metadata": {},
   "outputs": [],
   "source": [
    "#Remove links in text and html tag from source\n",
    "dog_rates_archive_clean['text'] = dog_rates_archive_clean['text'].str.replace('r\"http\\S+\"', '', case=False)\n",
    "dog_rates_archive_clean['source'] =dog_rates_archive_clean.source.str.extract('>([\\w\\W\\s]*)<', expand=True)"
   ]
  },
  {
   "cell_type": "markdown",
   "metadata": {},
   "source": [
    "#### Test"
   ]
  },
  {
   "cell_type": "code",
   "execution_count": 57,
   "metadata": {},
   "outputs": [
    {
     "data": {
      "text/plain": [
       "0    This is Phineas. He's a mystical boy. Only eve...\n",
       "1    This is Tilly. She's just checking pup on you....\n",
       "2    This is Archie. He is a rare Norwegian Pouncin...\n",
       "3    This is Darla. She commenced a snooze mid meal...\n",
       "4    This is Franklin. He would like you to stop ca...\n",
       "Name: text, dtype: object"
      ]
     },
     "execution_count": 57,
     "metadata": {},
     "output_type": "execute_result"
    }
   ],
   "source": [
    "dog_rates_archive_clean['text'].head(5)"
   ]
  },
  {
   "cell_type": "markdown",
   "metadata": {},
   "source": [
    "### Issue #9: Merge the 4 different dog_stages into one column to avoid having a bulky dataset."
   ]
  },
  {
   "cell_type": "markdown",
   "metadata": {},
   "source": [
    "#### Define: Merge the dog stages to avoid bulky data"
   ]
  },
  {
   "cell_type": "markdown",
   "metadata": {},
   "source": [
    "#### Code"
   ]
  },
  {
   "cell_type": "code",
   "execution_count": 58,
   "metadata": {},
   "outputs": [],
   "source": [
    "dog_rates_archive_clean['dog_stages'] = dog_rates_archive_clean['doggo'] + '-' + dog_rates_archive_clean['floofer'] + '-' + dog_rates_archive_clean['pupper'] + '-' + dog_rates_archive_clean['puppo']"
   ]
  },
  {
   "cell_type": "code",
   "execution_count": 59,
   "metadata": {},
   "outputs": [],
   "source": [
    "dog_rates_archive_clean['dog_stages'] = dog_rates_archive_clean['dog_stages'].replace(['None-None-None-None', 'doggo-None-None-None','None-floofer-None-None','None-None-pupper-None','None-None-None-puppo','doggo-None-None-puppo','doggo-None-pupper-None','doggo-floofer-None-None'],['None', 'doggo','floofer','pupper','puppo','doggo','doggo','doggo'])"
   ]
  },
  {
   "cell_type": "code",
   "execution_count": 60,
   "metadata": {},
   "outputs": [],
   "source": [
    "#drop doggo,floofer,pupper and puppo columns\n",
    "dog_rates_archive_clean.drop(columns=['doggo', 'floofer', 'pupper','puppo'], inplace=True)"
   ]
  },
  {
   "cell_type": "markdown",
   "metadata": {},
   "source": [
    "#### Test"
   ]
  },
  {
   "cell_type": "code",
   "execution_count": 61,
   "metadata": {},
   "outputs": [
    {
     "data": {
      "text/plain": [
       "None       1369\n",
       "pupper      181\n",
       "doggo        79\n",
       "puppo        22\n",
       "floofer       9\n",
       "Name: dog_stages, dtype: int64"
      ]
     },
     "execution_count": 61,
     "metadata": {},
     "output_type": "execute_result"
    }
   ],
   "source": [
    "dog_rates_archive_clean.dog_stages.value_counts()"
   ]
  },
  {
   "cell_type": "code",
   "execution_count": 62,
   "metadata": {},
   "outputs": [
    {
     "name": "stdout",
     "output_type": "stream",
     "text": [
      "<class 'pandas.core.frame.DataFrame'>\n",
      "Int64Index: 1660 entries, 0 to 2350\n",
      "Data columns (total 8 columns):\n",
      "tweet_id              1660 non-null object\n",
      "timestamp             1660 non-null datetime64[ns]\n",
      "source                1660 non-null object\n",
      "text                  1660 non-null object\n",
      "rating_numerator      1660 non-null float64\n",
      "rating_denominator    1660 non-null float64\n",
      "name                  1660 non-null object\n",
      "dog_stages            1660 non-null object\n",
      "dtypes: datetime64[ns](1), float64(2), object(5)\n",
      "memory usage: 116.7+ KB\n"
     ]
    }
   ],
   "source": [
    "dog_rates_archive_clean.info()"
   ]
  },
  {
   "cell_type": "markdown",
   "metadata": {},
   "source": [
    "### Issue #10: Concise Dataframe: Merge the 3 dataframes after correcting quality issues to give a comprehensive dataset."
   ]
  },
  {
   "cell_type": "markdown",
   "metadata": {},
   "source": [
    "#### Define: A high quality tidy  dataset  with all 3 gathered datasets."
   ]
  },
  {
   "cell_type": "markdown",
   "metadata": {},
   "source": [
    "#### Code: "
   ]
  },
  {
   "cell_type": "code",
   "execution_count": 63,
   "metadata": {},
   "outputs": [],
   "source": [
    "#create a master cleaned dataset\n",
    "twitter_archive_master = pd.merge(tweets_clean,dog_rates_archive_clean)\n",
    "twitter_archive_master = twitter_archive_master.merge(img_predictions_clean)"
   ]
  },
  {
   "cell_type": "markdown",
   "metadata": {},
   "source": [
    "#### Test"
   ]
  },
  {
   "cell_type": "code",
   "execution_count": 64,
   "metadata": {},
   "outputs": [
    {
     "name": "stdout",
     "output_type": "stream",
     "text": [
      "<class 'pandas.core.frame.DataFrame'>\n",
      "Int64Index: 1541 entries, 0 to 1540\n",
      "Data columns (total 19 columns):\n",
      "tweet_id              1541 non-null object\n",
      "retweet_count         1541 non-null int64\n",
      "favorite_count        1541 non-null int64\n",
      "create_date           1541 non-null object\n",
      "timestamp             1541 non-null datetime64[ns]\n",
      "source                1541 non-null object\n",
      "text                  1541 non-null object\n",
      "rating_numerator      1541 non-null float64\n",
      "rating_denominator    1541 non-null float64\n",
      "name                  1541 non-null object\n",
      "dog_stages            1541 non-null object\n",
      "jpg_url               1541 non-null object\n",
      "img_num               1541 non-null int64\n",
      "Prediction1           1541 non-null object\n",
      "Prediction1_dog       1541 non-null bool\n",
      "Prediction2           1541 non-null object\n",
      "Prediction2_dog       1541 non-null bool\n",
      "Prediction3           1541 non-null object\n",
      "Prediction3_dog       1541 non-null bool\n",
      "dtypes: bool(3), datetime64[ns](1), float64(2), int64(3), object(10)\n",
      "memory usage: 209.2+ KB\n"
     ]
    }
   ],
   "source": [
    "twitter_archive_master.info()"
   ]
  },
  {
   "cell_type": "code",
   "execution_count": 65,
   "metadata": {
    "scrolled": true
   },
   "outputs": [
    {
     "data": {
      "text/html": [
       "<div>\n",
       "<style scoped>\n",
       "    .dataframe tbody tr th:only-of-type {\n",
       "        vertical-align: middle;\n",
       "    }\n",
       "\n",
       "    .dataframe tbody tr th {\n",
       "        vertical-align: top;\n",
       "    }\n",
       "\n",
       "    .dataframe thead th {\n",
       "        text-align: right;\n",
       "    }\n",
       "</style>\n",
       "<table border=\"1\" class=\"dataframe\">\n",
       "  <thead>\n",
       "    <tr style=\"text-align: right;\">\n",
       "      <th></th>\n",
       "      <th>tweet_id</th>\n",
       "      <th>retweet_count</th>\n",
       "      <th>favorite_count</th>\n",
       "      <th>create_date</th>\n",
       "      <th>timestamp</th>\n",
       "      <th>source</th>\n",
       "      <th>text</th>\n",
       "      <th>rating_numerator</th>\n",
       "      <th>rating_denominator</th>\n",
       "      <th>name</th>\n",
       "      <th>dog_stages</th>\n",
       "      <th>jpg_url</th>\n",
       "      <th>img_num</th>\n",
       "      <th>Prediction1</th>\n",
       "      <th>Prediction1_dog</th>\n",
       "      <th>Prediction2</th>\n",
       "      <th>Prediction2_dog</th>\n",
       "      <th>Prediction3</th>\n",
       "      <th>Prediction3_dog</th>\n",
       "    </tr>\n",
       "  </thead>\n",
       "  <tbody>\n",
       "    <tr>\n",
       "      <th>0</th>\n",
       "      <td>892420643555336193</td>\n",
       "      <td>8853</td>\n",
       "      <td>39467</td>\n",
       "      <td>Tue Aug 01 16:23:56 +0000 2017</td>\n",
       "      <td>2017-08-01 16:23:56</td>\n",
       "      <td>Twitter for iPhone</td>\n",
       "      <td>This is Phineas. He's a mystical boy. Only eve...</td>\n",
       "      <td>13.0</td>\n",
       "      <td>10.0</td>\n",
       "      <td>Phineas</td>\n",
       "      <td>None</td>\n",
       "      <td>https://pbs.twimg.com/media/DGKD1-bXoAAIAUK.jpg</td>\n",
       "      <td>1</td>\n",
       "      <td>orange</td>\n",
       "      <td>False</td>\n",
       "      <td>bagel</td>\n",
       "      <td>False</td>\n",
       "      <td>banana</td>\n",
       "      <td>False</td>\n",
       "    </tr>\n",
       "    <tr>\n",
       "      <th>1</th>\n",
       "      <td>892177421306343426</td>\n",
       "      <td>6514</td>\n",
       "      <td>33819</td>\n",
       "      <td>Tue Aug 01 00:17:27 +0000 2017</td>\n",
       "      <td>2017-08-01 00:17:27</td>\n",
       "      <td>Twitter for iPhone</td>\n",
       "      <td>This is Tilly. She's just checking pup on you....</td>\n",
       "      <td>13.0</td>\n",
       "      <td>10.0</td>\n",
       "      <td>Tilly</td>\n",
       "      <td>None</td>\n",
       "      <td>https://pbs.twimg.com/media/DGGmoV4XsAAUL6n.jpg</td>\n",
       "      <td>1</td>\n",
       "      <td>Chihuahua</td>\n",
       "      <td>True</td>\n",
       "      <td>Pekinese</td>\n",
       "      <td>True</td>\n",
       "      <td>papillon</td>\n",
       "      <td>True</td>\n",
       "    </tr>\n",
       "    <tr>\n",
       "      <th>2</th>\n",
       "      <td>891815181378084864</td>\n",
       "      <td>4328</td>\n",
       "      <td>25461</td>\n",
       "      <td>Mon Jul 31 00:18:03 +0000 2017</td>\n",
       "      <td>2017-07-31 00:18:03</td>\n",
       "      <td>Twitter for iPhone</td>\n",
       "      <td>This is Archie. He is a rare Norwegian Pouncin...</td>\n",
       "      <td>12.0</td>\n",
       "      <td>10.0</td>\n",
       "      <td>Archie</td>\n",
       "      <td>None</td>\n",
       "      <td>https://pbs.twimg.com/media/DGBdLU1WsAANxJ9.jpg</td>\n",
       "      <td>1</td>\n",
       "      <td>Chihuahua</td>\n",
       "      <td>True</td>\n",
       "      <td>malamute</td>\n",
       "      <td>True</td>\n",
       "      <td>kelpie</td>\n",
       "      <td>True</td>\n",
       "    </tr>\n",
       "    <tr>\n",
       "      <th>3</th>\n",
       "      <td>891689557279858688</td>\n",
       "      <td>8964</td>\n",
       "      <td>42908</td>\n",
       "      <td>Sun Jul 30 15:58:51 +0000 2017</td>\n",
       "      <td>2017-07-30 15:58:51</td>\n",
       "      <td>Twitter for iPhone</td>\n",
       "      <td>This is Darla. She commenced a snooze mid meal...</td>\n",
       "      <td>13.0</td>\n",
       "      <td>10.0</td>\n",
       "      <td>Darla</td>\n",
       "      <td>None</td>\n",
       "      <td>https://pbs.twimg.com/media/DF_q7IAWsAEuuN8.jpg</td>\n",
       "      <td>1</td>\n",
       "      <td>paper_towel</td>\n",
       "      <td>False</td>\n",
       "      <td>Labrador_retriever</td>\n",
       "      <td>True</td>\n",
       "      <td>spatula</td>\n",
       "      <td>False</td>\n",
       "    </tr>\n",
       "    <tr>\n",
       "      <th>4</th>\n",
       "      <td>891327558926688256</td>\n",
       "      <td>9774</td>\n",
       "      <td>41048</td>\n",
       "      <td>Sat Jul 29 16:00:24 +0000 2017</td>\n",
       "      <td>2017-07-29 16:00:24</td>\n",
       "      <td>Twitter for iPhone</td>\n",
       "      <td>This is Franklin. He would like you to stop ca...</td>\n",
       "      <td>12.0</td>\n",
       "      <td>10.0</td>\n",
       "      <td>Franklin</td>\n",
       "      <td>None</td>\n",
       "      <td>https://pbs.twimg.com/media/DF6hr6BUMAAzZgT.jpg</td>\n",
       "      <td>2</td>\n",
       "      <td>basset</td>\n",
       "      <td>True</td>\n",
       "      <td>English_springer</td>\n",
       "      <td>True</td>\n",
       "      <td>German_short-haired_pointer</td>\n",
       "      <td>True</td>\n",
       "    </tr>\n",
       "    <tr>\n",
       "      <th>5</th>\n",
       "      <td>891087950875897856</td>\n",
       "      <td>3261</td>\n",
       "      <td>20562</td>\n",
       "      <td>Sat Jul 29 00:08:17 +0000 2017</td>\n",
       "      <td>2017-07-29 00:08:17</td>\n",
       "      <td>Twitter for iPhone</td>\n",
       "      <td>Here we have a majestic great white breaching ...</td>\n",
       "      <td>13.0</td>\n",
       "      <td>10.0</td>\n",
       "      <td>None</td>\n",
       "      <td>None</td>\n",
       "      <td>https://pbs.twimg.com/media/DF3HwyEWsAABqE6.jpg</td>\n",
       "      <td>1</td>\n",
       "      <td>Chesapeake_Bay_retriever</td>\n",
       "      <td>True</td>\n",
       "      <td>Irish_terrier</td>\n",
       "      <td>True</td>\n",
       "      <td>Indian_elephant</td>\n",
       "      <td>False</td>\n",
       "    </tr>\n",
       "    <tr>\n",
       "      <th>6</th>\n",
       "      <td>890971913173991426</td>\n",
       "      <td>2158</td>\n",
       "      <td>12041</td>\n",
       "      <td>Fri Jul 28 16:27:12 +0000 2017</td>\n",
       "      <td>2017-07-28 16:27:12</td>\n",
       "      <td>Twitter for iPhone</td>\n",
       "      <td>Meet Jax. He enjoys ice cream so much he gets ...</td>\n",
       "      <td>13.0</td>\n",
       "      <td>10.0</td>\n",
       "      <td>Jax</td>\n",
       "      <td>None</td>\n",
       "      <td>https://pbs.twimg.com/media/DF1eOmZXUAALUcq.jpg</td>\n",
       "      <td>1</td>\n",
       "      <td>Appenzeller</td>\n",
       "      <td>True</td>\n",
       "      <td>Border_collie</td>\n",
       "      <td>True</td>\n",
       "      <td>ice_lolly</td>\n",
       "      <td>False</td>\n",
       "    </tr>\n",
       "    <tr>\n",
       "      <th>7</th>\n",
       "      <td>890729181411237888</td>\n",
       "      <td>16716</td>\n",
       "      <td>56848</td>\n",
       "      <td>Fri Jul 28 00:22:40 +0000 2017</td>\n",
       "      <td>2017-07-28 00:22:40</td>\n",
       "      <td>Twitter for iPhone</td>\n",
       "      <td>When you watch your owner call another dog a g...</td>\n",
       "      <td>13.0</td>\n",
       "      <td>10.0</td>\n",
       "      <td>None</td>\n",
       "      <td>None</td>\n",
       "      <td>https://pbs.twimg.com/media/DFyBahAVwAAhUTd.jpg</td>\n",
       "      <td>2</td>\n",
       "      <td>Pomeranian</td>\n",
       "      <td>True</td>\n",
       "      <td>Eskimo_dog</td>\n",
       "      <td>True</td>\n",
       "      <td>Pembroke</td>\n",
       "      <td>True</td>\n",
       "    </tr>\n",
       "    <tr>\n",
       "      <th>8</th>\n",
       "      <td>890609185150312448</td>\n",
       "      <td>4429</td>\n",
       "      <td>28226</td>\n",
       "      <td>Thu Jul 27 16:25:51 +0000 2017</td>\n",
       "      <td>2017-07-27 16:25:51</td>\n",
       "      <td>Twitter for iPhone</td>\n",
       "      <td>This is Zoey. She doesn't want to be one of th...</td>\n",
       "      <td>13.0</td>\n",
       "      <td>10.0</td>\n",
       "      <td>Zoey</td>\n",
       "      <td>None</td>\n",
       "      <td>https://pbs.twimg.com/media/DFwUU__XcAEpyXI.jpg</td>\n",
       "      <td>1</td>\n",
       "      <td>Irish_terrier</td>\n",
       "      <td>True</td>\n",
       "      <td>Irish_setter</td>\n",
       "      <td>True</td>\n",
       "      <td>Chesapeake_Bay_retriever</td>\n",
       "      <td>True</td>\n",
       "    </tr>\n",
       "    <tr>\n",
       "      <th>9</th>\n",
       "      <td>890240255349198849</td>\n",
       "      <td>7711</td>\n",
       "      <td>32467</td>\n",
       "      <td>Wed Jul 26 15:59:51 +0000 2017</td>\n",
       "      <td>2017-07-26 15:59:51</td>\n",
       "      <td>Twitter for iPhone</td>\n",
       "      <td>This is Cassie. She is a college pup. Studying...</td>\n",
       "      <td>14.0</td>\n",
       "      <td>10.0</td>\n",
       "      <td>Cassie</td>\n",
       "      <td>doggo</td>\n",
       "      <td>https://pbs.twimg.com/media/DFrEyVuW0AAO3t9.jpg</td>\n",
       "      <td>1</td>\n",
       "      <td>Pembroke</td>\n",
       "      <td>True</td>\n",
       "      <td>Cardigan</td>\n",
       "      <td>True</td>\n",
       "      <td>Chihuahua</td>\n",
       "      <td>True</td>\n",
       "    </tr>\n",
       "    <tr>\n",
       "      <th>10</th>\n",
       "      <td>890006608113172480</td>\n",
       "      <td>7624</td>\n",
       "      <td>31166</td>\n",
       "      <td>Wed Jul 26 00:31:25 +0000 2017</td>\n",
       "      <td>2017-07-26 00:31:25</td>\n",
       "      <td>Twitter for iPhone</td>\n",
       "      <td>This is Koda. He is a South Australian decksha...</td>\n",
       "      <td>13.0</td>\n",
       "      <td>10.0</td>\n",
       "      <td>Koda</td>\n",
       "      <td>None</td>\n",
       "      <td>https://pbs.twimg.com/media/DFnwSY4WAAAMliS.jpg</td>\n",
       "      <td>1</td>\n",
       "      <td>Samoyed</td>\n",
       "      <td>True</td>\n",
       "      <td>Pomeranian</td>\n",
       "      <td>True</td>\n",
       "      <td>chow</td>\n",
       "      <td>True</td>\n",
       "    </tr>\n",
       "    <tr>\n",
       "      <th>11</th>\n",
       "      <td>889880896479866881</td>\n",
       "      <td>5156</td>\n",
       "      <td>28268</td>\n",
       "      <td>Tue Jul 25 16:11:53 +0000 2017</td>\n",
       "      <td>2017-07-25 16:11:53</td>\n",
       "      <td>Twitter for iPhone</td>\n",
       "      <td>This is Bruno. He is a service shark. Only get...</td>\n",
       "      <td>13.0</td>\n",
       "      <td>10.0</td>\n",
       "      <td>Bruno</td>\n",
       "      <td>None</td>\n",
       "      <td>https://pbs.twimg.com/media/DFl99B1WsAITKsg.jpg</td>\n",
       "      <td>1</td>\n",
       "      <td>French_bulldog</td>\n",
       "      <td>True</td>\n",
       "      <td>Labrador_retriever</td>\n",
       "      <td>True</td>\n",
       "      <td>muzzle</td>\n",
       "      <td>False</td>\n",
       "    </tr>\n",
       "    <tr>\n",
       "      <th>12</th>\n",
       "      <td>889665388333682689</td>\n",
       "      <td>8538</td>\n",
       "      <td>38818</td>\n",
       "      <td>Tue Jul 25 01:55:32 +0000 2017</td>\n",
       "      <td>2017-07-25 01:55:32</td>\n",
       "      <td>Twitter for iPhone</td>\n",
       "      <td>Here's a puppo that seems to be on the fence a...</td>\n",
       "      <td>13.0</td>\n",
       "      <td>10.0</td>\n",
       "      <td>None</td>\n",
       "      <td>puppo</td>\n",
       "      <td>https://pbs.twimg.com/media/DFi579UWsAAatzw.jpg</td>\n",
       "      <td>1</td>\n",
       "      <td>Pembroke</td>\n",
       "      <td>True</td>\n",
       "      <td>Cardigan</td>\n",
       "      <td>True</td>\n",
       "      <td>basenji</td>\n",
       "      <td>True</td>\n",
       "    </tr>\n",
       "    <tr>\n",
       "      <th>13</th>\n",
       "      <td>889638837579907072</td>\n",
       "      <td>4735</td>\n",
       "      <td>27672</td>\n",
       "      <td>Tue Jul 25 00:10:02 +0000 2017</td>\n",
       "      <td>2017-07-25 00:10:02</td>\n",
       "      <td>Twitter for iPhone</td>\n",
       "      <td>This is Ted. He does his best. Sometimes that'...</td>\n",
       "      <td>12.0</td>\n",
       "      <td>10.0</td>\n",
       "      <td>Ted</td>\n",
       "      <td>None</td>\n",
       "      <td>https://pbs.twimg.com/media/DFihzFfXsAYGDPR.jpg</td>\n",
       "      <td>1</td>\n",
       "      <td>French_bulldog</td>\n",
       "      <td>True</td>\n",
       "      <td>boxer</td>\n",
       "      <td>True</td>\n",
       "      <td>Staffordshire_bullterrier</td>\n",
       "      <td>True</td>\n",
       "    </tr>\n",
       "    <tr>\n",
       "      <th>14</th>\n",
       "      <td>889531135344209921</td>\n",
       "      <td>2321</td>\n",
       "      <td>15359</td>\n",
       "      <td>Mon Jul 24 17:02:04 +0000 2017</td>\n",
       "      <td>2017-07-24 17:02:04</td>\n",
       "      <td>Twitter for iPhone</td>\n",
       "      <td>This is Stuart. He's sporting his favorite fan...</td>\n",
       "      <td>13.0</td>\n",
       "      <td>10.0</td>\n",
       "      <td>Stuart</td>\n",
       "      <td>puppo</td>\n",
       "      <td>https://pbs.twimg.com/media/DFg_2PVW0AEHN3p.jpg</td>\n",
       "      <td>1</td>\n",
       "      <td>golden_retriever</td>\n",
       "      <td>True</td>\n",
       "      <td>Labrador_retriever</td>\n",
       "      <td>True</td>\n",
       "      <td>redbone</td>\n",
       "      <td>True</td>\n",
       "    </tr>\n",
       "    <tr>\n",
       "      <th>15</th>\n",
       "      <td>889278841981685760</td>\n",
       "      <td>5637</td>\n",
       "      <td>25652</td>\n",
       "      <td>Mon Jul 24 00:19:32 +0000 2017</td>\n",
       "      <td>2017-07-24 00:19:32</td>\n",
       "      <td>Twitter for iPhone</td>\n",
       "      <td>This is Oliver. You're witnessing one of his m...</td>\n",
       "      <td>13.0</td>\n",
       "      <td>10.0</td>\n",
       "      <td>Oliver</td>\n",
       "      <td>None</td>\n",
       "      <td>https://pbs.twimg.com/ext_tw_video_thumb/88927...</td>\n",
       "      <td>1</td>\n",
       "      <td>whippet</td>\n",
       "      <td>True</td>\n",
       "      <td>borzoi</td>\n",
       "      <td>True</td>\n",
       "      <td>Saluki</td>\n",
       "      <td>True</td>\n",
       "    </tr>\n",
       "    <tr>\n",
       "      <th>16</th>\n",
       "      <td>888917238123831296</td>\n",
       "      <td>4709</td>\n",
       "      <td>29611</td>\n",
       "      <td>Sun Jul 23 00:22:39 +0000 2017</td>\n",
       "      <td>2017-07-23 00:22:39</td>\n",
       "      <td>Twitter for iPhone</td>\n",
       "      <td>This is Jim. He found a fren. Taught him how t...</td>\n",
       "      <td>12.0</td>\n",
       "      <td>10.0</td>\n",
       "      <td>Jim</td>\n",
       "      <td>None</td>\n",
       "      <td>https://pbs.twimg.com/media/DFYRgsOUQAARGhO.jpg</td>\n",
       "      <td>1</td>\n",
       "      <td>golden_retriever</td>\n",
       "      <td>True</td>\n",
       "      <td>Tibetan_mastiff</td>\n",
       "      <td>True</td>\n",
       "      <td>Labrador_retriever</td>\n",
       "      <td>True</td>\n",
       "    </tr>\n",
       "    <tr>\n",
       "      <th>17</th>\n",
       "      <td>888804989199671297</td>\n",
       "      <td>4559</td>\n",
       "      <td>26080</td>\n",
       "      <td>Sat Jul 22 16:56:37 +0000 2017</td>\n",
       "      <td>2017-07-22 16:56:37</td>\n",
       "      <td>Twitter for iPhone</td>\n",
       "      <td>This is Zeke. He has a new stick. Very proud o...</td>\n",
       "      <td>13.0</td>\n",
       "      <td>10.0</td>\n",
       "      <td>Zeke</td>\n",
       "      <td>None</td>\n",
       "      <td>https://pbs.twimg.com/media/DFWra-3VYAA2piG.jpg</td>\n",
       "      <td>1</td>\n",
       "      <td>golden_retriever</td>\n",
       "      <td>True</td>\n",
       "      <td>Labrador_retriever</td>\n",
       "      <td>True</td>\n",
       "      <td>English_setter</td>\n",
       "      <td>True</td>\n",
       "    </tr>\n",
       "    <tr>\n",
       "      <th>18</th>\n",
       "      <td>888554962724278272</td>\n",
       "      <td>3732</td>\n",
       "      <td>20290</td>\n",
       "      <td>Sat Jul 22 00:23:06 +0000 2017</td>\n",
       "      <td>2017-07-22 00:23:06</td>\n",
       "      <td>Twitter for iPhone</td>\n",
       "      <td>This is Ralphus. He's powering up. Attempting ...</td>\n",
       "      <td>13.0</td>\n",
       "      <td>10.0</td>\n",
       "      <td>Ralphus</td>\n",
       "      <td>None</td>\n",
       "      <td>https://pbs.twimg.com/media/DFTH_O-UQAACu20.jpg</td>\n",
       "      <td>3</td>\n",
       "      <td>Siberian_husky</td>\n",
       "      <td>True</td>\n",
       "      <td>Eskimo_dog</td>\n",
       "      <td>True</td>\n",
       "      <td>malamute</td>\n",
       "      <td>True</td>\n",
       "    </tr>\n",
       "    <tr>\n",
       "      <th>19</th>\n",
       "      <td>888078434458587136</td>\n",
       "      <td>3653</td>\n",
       "      <td>22201</td>\n",
       "      <td>Thu Jul 20 16:49:33 +0000 2017</td>\n",
       "      <td>2017-07-20 16:49:33</td>\n",
       "      <td>Twitter for iPhone</td>\n",
       "      <td>This is Gerald. He was just told he didn't get...</td>\n",
       "      <td>12.0</td>\n",
       "      <td>10.0</td>\n",
       "      <td>Gerald</td>\n",
       "      <td>None</td>\n",
       "      <td>https://pbs.twimg.com/media/DFMWn56WsAAkA7B.jpg</td>\n",
       "      <td>1</td>\n",
       "      <td>French_bulldog</td>\n",
       "      <td>True</td>\n",
       "      <td>pug</td>\n",
       "      <td>True</td>\n",
       "      <td>bull_mastiff</td>\n",
       "      <td>True</td>\n",
       "    </tr>\n",
       "  </tbody>\n",
       "</table>\n",
       "</div>"
      ],
      "text/plain": [
       "              tweet_id  retweet_count  favorite_count  \\\n",
       "0   892420643555336193           8853           39467   \n",
       "1   892177421306343426           6514           33819   \n",
       "2   891815181378084864           4328           25461   \n",
       "3   891689557279858688           8964           42908   \n",
       "4   891327558926688256           9774           41048   \n",
       "5   891087950875897856           3261           20562   \n",
       "6   890971913173991426           2158           12041   \n",
       "7   890729181411237888          16716           56848   \n",
       "8   890609185150312448           4429           28226   \n",
       "9   890240255349198849           7711           32467   \n",
       "10  890006608113172480           7624           31166   \n",
       "11  889880896479866881           5156           28268   \n",
       "12  889665388333682689           8538           38818   \n",
       "13  889638837579907072           4735           27672   \n",
       "14  889531135344209921           2321           15359   \n",
       "15  889278841981685760           5637           25652   \n",
       "16  888917238123831296           4709           29611   \n",
       "17  888804989199671297           4559           26080   \n",
       "18  888554962724278272           3732           20290   \n",
       "19  888078434458587136           3653           22201   \n",
       "\n",
       "                       create_date           timestamp              source  \\\n",
       "0   Tue Aug 01 16:23:56 +0000 2017 2017-08-01 16:23:56  Twitter for iPhone   \n",
       "1   Tue Aug 01 00:17:27 +0000 2017 2017-08-01 00:17:27  Twitter for iPhone   \n",
       "2   Mon Jul 31 00:18:03 +0000 2017 2017-07-31 00:18:03  Twitter for iPhone   \n",
       "3   Sun Jul 30 15:58:51 +0000 2017 2017-07-30 15:58:51  Twitter for iPhone   \n",
       "4   Sat Jul 29 16:00:24 +0000 2017 2017-07-29 16:00:24  Twitter for iPhone   \n",
       "5   Sat Jul 29 00:08:17 +0000 2017 2017-07-29 00:08:17  Twitter for iPhone   \n",
       "6   Fri Jul 28 16:27:12 +0000 2017 2017-07-28 16:27:12  Twitter for iPhone   \n",
       "7   Fri Jul 28 00:22:40 +0000 2017 2017-07-28 00:22:40  Twitter for iPhone   \n",
       "8   Thu Jul 27 16:25:51 +0000 2017 2017-07-27 16:25:51  Twitter for iPhone   \n",
       "9   Wed Jul 26 15:59:51 +0000 2017 2017-07-26 15:59:51  Twitter for iPhone   \n",
       "10  Wed Jul 26 00:31:25 +0000 2017 2017-07-26 00:31:25  Twitter for iPhone   \n",
       "11  Tue Jul 25 16:11:53 +0000 2017 2017-07-25 16:11:53  Twitter for iPhone   \n",
       "12  Tue Jul 25 01:55:32 +0000 2017 2017-07-25 01:55:32  Twitter for iPhone   \n",
       "13  Tue Jul 25 00:10:02 +0000 2017 2017-07-25 00:10:02  Twitter for iPhone   \n",
       "14  Mon Jul 24 17:02:04 +0000 2017 2017-07-24 17:02:04  Twitter for iPhone   \n",
       "15  Mon Jul 24 00:19:32 +0000 2017 2017-07-24 00:19:32  Twitter for iPhone   \n",
       "16  Sun Jul 23 00:22:39 +0000 2017 2017-07-23 00:22:39  Twitter for iPhone   \n",
       "17  Sat Jul 22 16:56:37 +0000 2017 2017-07-22 16:56:37  Twitter for iPhone   \n",
       "18  Sat Jul 22 00:23:06 +0000 2017 2017-07-22 00:23:06  Twitter for iPhone   \n",
       "19  Thu Jul 20 16:49:33 +0000 2017 2017-07-20 16:49:33  Twitter for iPhone   \n",
       "\n",
       "                                                 text  rating_numerator  \\\n",
       "0   This is Phineas. He's a mystical boy. Only eve...              13.0   \n",
       "1   This is Tilly. She's just checking pup on you....              13.0   \n",
       "2   This is Archie. He is a rare Norwegian Pouncin...              12.0   \n",
       "3   This is Darla. She commenced a snooze mid meal...              13.0   \n",
       "4   This is Franklin. He would like you to stop ca...              12.0   \n",
       "5   Here we have a majestic great white breaching ...              13.0   \n",
       "6   Meet Jax. He enjoys ice cream so much he gets ...              13.0   \n",
       "7   When you watch your owner call another dog a g...              13.0   \n",
       "8   This is Zoey. She doesn't want to be one of th...              13.0   \n",
       "9   This is Cassie. She is a college pup. Studying...              14.0   \n",
       "10  This is Koda. He is a South Australian decksha...              13.0   \n",
       "11  This is Bruno. He is a service shark. Only get...              13.0   \n",
       "12  Here's a puppo that seems to be on the fence a...              13.0   \n",
       "13  This is Ted. He does his best. Sometimes that'...              12.0   \n",
       "14  This is Stuart. He's sporting his favorite fan...              13.0   \n",
       "15  This is Oliver. You're witnessing one of his m...              13.0   \n",
       "16  This is Jim. He found a fren. Taught him how t...              12.0   \n",
       "17  This is Zeke. He has a new stick. Very proud o...              13.0   \n",
       "18  This is Ralphus. He's powering up. Attempting ...              13.0   \n",
       "19  This is Gerald. He was just told he didn't get...              12.0   \n",
       "\n",
       "    rating_denominator      name dog_stages  \\\n",
       "0                 10.0   Phineas       None   \n",
       "1                 10.0     Tilly       None   \n",
       "2                 10.0    Archie       None   \n",
       "3                 10.0     Darla       None   \n",
       "4                 10.0  Franklin       None   \n",
       "5                 10.0      None       None   \n",
       "6                 10.0       Jax       None   \n",
       "7                 10.0      None       None   \n",
       "8                 10.0      Zoey       None   \n",
       "9                 10.0    Cassie      doggo   \n",
       "10                10.0      Koda       None   \n",
       "11                10.0     Bruno       None   \n",
       "12                10.0      None      puppo   \n",
       "13                10.0       Ted       None   \n",
       "14                10.0    Stuart      puppo   \n",
       "15                10.0    Oliver       None   \n",
       "16                10.0       Jim       None   \n",
       "17                10.0      Zeke       None   \n",
       "18                10.0   Ralphus       None   \n",
       "19                10.0    Gerald       None   \n",
       "\n",
       "                                              jpg_url  img_num  \\\n",
       "0     https://pbs.twimg.com/media/DGKD1-bXoAAIAUK.jpg        1   \n",
       "1     https://pbs.twimg.com/media/DGGmoV4XsAAUL6n.jpg        1   \n",
       "2     https://pbs.twimg.com/media/DGBdLU1WsAANxJ9.jpg        1   \n",
       "3     https://pbs.twimg.com/media/DF_q7IAWsAEuuN8.jpg        1   \n",
       "4     https://pbs.twimg.com/media/DF6hr6BUMAAzZgT.jpg        2   \n",
       "5     https://pbs.twimg.com/media/DF3HwyEWsAABqE6.jpg        1   \n",
       "6     https://pbs.twimg.com/media/DF1eOmZXUAALUcq.jpg        1   \n",
       "7     https://pbs.twimg.com/media/DFyBahAVwAAhUTd.jpg        2   \n",
       "8     https://pbs.twimg.com/media/DFwUU__XcAEpyXI.jpg        1   \n",
       "9     https://pbs.twimg.com/media/DFrEyVuW0AAO3t9.jpg        1   \n",
       "10    https://pbs.twimg.com/media/DFnwSY4WAAAMliS.jpg        1   \n",
       "11    https://pbs.twimg.com/media/DFl99B1WsAITKsg.jpg        1   \n",
       "12    https://pbs.twimg.com/media/DFi579UWsAAatzw.jpg        1   \n",
       "13    https://pbs.twimg.com/media/DFihzFfXsAYGDPR.jpg        1   \n",
       "14    https://pbs.twimg.com/media/DFg_2PVW0AEHN3p.jpg        1   \n",
       "15  https://pbs.twimg.com/ext_tw_video_thumb/88927...        1   \n",
       "16    https://pbs.twimg.com/media/DFYRgsOUQAARGhO.jpg        1   \n",
       "17    https://pbs.twimg.com/media/DFWra-3VYAA2piG.jpg        1   \n",
       "18    https://pbs.twimg.com/media/DFTH_O-UQAACu20.jpg        3   \n",
       "19    https://pbs.twimg.com/media/DFMWn56WsAAkA7B.jpg        1   \n",
       "\n",
       "                 Prediction1  Prediction1_dog         Prediction2  \\\n",
       "0                     orange            False               bagel   \n",
       "1                  Chihuahua             True            Pekinese   \n",
       "2                  Chihuahua             True            malamute   \n",
       "3                paper_towel            False  Labrador_retriever   \n",
       "4                     basset             True    English_springer   \n",
       "5   Chesapeake_Bay_retriever             True       Irish_terrier   \n",
       "6                Appenzeller             True       Border_collie   \n",
       "7                 Pomeranian             True          Eskimo_dog   \n",
       "8              Irish_terrier             True        Irish_setter   \n",
       "9                   Pembroke             True            Cardigan   \n",
       "10                   Samoyed             True          Pomeranian   \n",
       "11            French_bulldog             True  Labrador_retriever   \n",
       "12                  Pembroke             True            Cardigan   \n",
       "13            French_bulldog             True               boxer   \n",
       "14          golden_retriever             True  Labrador_retriever   \n",
       "15                   whippet             True              borzoi   \n",
       "16          golden_retriever             True     Tibetan_mastiff   \n",
       "17          golden_retriever             True  Labrador_retriever   \n",
       "18            Siberian_husky             True          Eskimo_dog   \n",
       "19            French_bulldog             True                 pug   \n",
       "\n",
       "    Prediction2_dog                  Prediction3  Prediction3_dog  \n",
       "0             False                       banana            False  \n",
       "1              True                     papillon             True  \n",
       "2              True                       kelpie             True  \n",
       "3              True                      spatula            False  \n",
       "4              True  German_short-haired_pointer             True  \n",
       "5              True              Indian_elephant            False  \n",
       "6              True                    ice_lolly            False  \n",
       "7              True                     Pembroke             True  \n",
       "8              True     Chesapeake_Bay_retriever             True  \n",
       "9              True                    Chihuahua             True  \n",
       "10             True                         chow             True  \n",
       "11             True                       muzzle            False  \n",
       "12             True                      basenji             True  \n",
       "13             True    Staffordshire_bullterrier             True  \n",
       "14             True                      redbone             True  \n",
       "15             True                       Saluki             True  \n",
       "16             True           Labrador_retriever             True  \n",
       "17             True               English_setter             True  \n",
       "18             True                     malamute             True  \n",
       "19             True                 bull_mastiff             True  "
      ]
     },
     "execution_count": 65,
     "metadata": {},
     "output_type": "execute_result"
    }
   ],
   "source": [
    "twitter_archive_master.head(20)"
   ]
  },
  {
   "cell_type": "code",
   "execution_count": 66,
   "metadata": {},
   "outputs": [],
   "source": [
    "#looking at the dataset virtually, create_date and timestamp are redundant.\n",
    "#Remove create_date column\n",
    "twitter_archive_master = twitter_archive_master.drop(['create_date'], axis = 1)"
   ]
  },
  {
   "cell_type": "code",
   "execution_count": 69,
   "metadata": {},
   "outputs": [
    {
     "data": {
      "text/html": [
       "<div>\n",
       "<style scoped>\n",
       "    .dataframe tbody tr th:only-of-type {\n",
       "        vertical-align: middle;\n",
       "    }\n",
       "\n",
       "    .dataframe tbody tr th {\n",
       "        vertical-align: top;\n",
       "    }\n",
       "\n",
       "    .dataframe thead th {\n",
       "        text-align: right;\n",
       "    }\n",
       "</style>\n",
       "<table border=\"1\" class=\"dataframe\">\n",
       "  <thead>\n",
       "    <tr style=\"text-align: right;\">\n",
       "      <th></th>\n",
       "      <th>tweet_id</th>\n",
       "      <th>retweet_count</th>\n",
       "      <th>favorite_count</th>\n",
       "      <th>timestamp</th>\n",
       "      <th>source</th>\n",
       "      <th>text</th>\n",
       "      <th>rating_numerator</th>\n",
       "      <th>rating_denominator</th>\n",
       "      <th>name</th>\n",
       "      <th>dog_stages</th>\n",
       "      <th>jpg_url</th>\n",
       "      <th>img_num</th>\n",
       "      <th>Prediction1</th>\n",
       "      <th>Prediction1_dog</th>\n",
       "      <th>Prediction2</th>\n",
       "      <th>Prediction2_dog</th>\n",
       "      <th>Prediction3</th>\n",
       "      <th>Prediction3_dog</th>\n",
       "    </tr>\n",
       "  </thead>\n",
       "  <tbody>\n",
       "    <tr>\n",
       "      <th>0</th>\n",
       "      <td>892420643555336193</td>\n",
       "      <td>8853</td>\n",
       "      <td>39467</td>\n",
       "      <td>2017-08-01 16:23:56</td>\n",
       "      <td>Twitter for iPhone</td>\n",
       "      <td>This is Phineas. He's a mystical boy. Only eve...</td>\n",
       "      <td>13.0</td>\n",
       "      <td>10.0</td>\n",
       "      <td>Phineas</td>\n",
       "      <td>None</td>\n",
       "      <td>https://pbs.twimg.com/media/DGKD1-bXoAAIAUK.jpg</td>\n",
       "      <td>1</td>\n",
       "      <td>orange</td>\n",
       "      <td>False</td>\n",
       "      <td>bagel</td>\n",
       "      <td>False</td>\n",
       "      <td>banana</td>\n",
       "      <td>False</td>\n",
       "    </tr>\n",
       "    <tr>\n",
       "      <th>1</th>\n",
       "      <td>892177421306343426</td>\n",
       "      <td>6514</td>\n",
       "      <td>33819</td>\n",
       "      <td>2017-08-01 00:17:27</td>\n",
       "      <td>Twitter for iPhone</td>\n",
       "      <td>This is Tilly. She's just checking pup on you....</td>\n",
       "      <td>13.0</td>\n",
       "      <td>10.0</td>\n",
       "      <td>Tilly</td>\n",
       "      <td>None</td>\n",
       "      <td>https://pbs.twimg.com/media/DGGmoV4XsAAUL6n.jpg</td>\n",
       "      <td>1</td>\n",
       "      <td>Chihuahua</td>\n",
       "      <td>True</td>\n",
       "      <td>Pekinese</td>\n",
       "      <td>True</td>\n",
       "      <td>papillon</td>\n",
       "      <td>True</td>\n",
       "    </tr>\n",
       "    <tr>\n",
       "      <th>2</th>\n",
       "      <td>891815181378084864</td>\n",
       "      <td>4328</td>\n",
       "      <td>25461</td>\n",
       "      <td>2017-07-31 00:18:03</td>\n",
       "      <td>Twitter for iPhone</td>\n",
       "      <td>This is Archie. He is a rare Norwegian Pouncin...</td>\n",
       "      <td>12.0</td>\n",
       "      <td>10.0</td>\n",
       "      <td>Archie</td>\n",
       "      <td>None</td>\n",
       "      <td>https://pbs.twimg.com/media/DGBdLU1WsAANxJ9.jpg</td>\n",
       "      <td>1</td>\n",
       "      <td>Chihuahua</td>\n",
       "      <td>True</td>\n",
       "      <td>malamute</td>\n",
       "      <td>True</td>\n",
       "      <td>kelpie</td>\n",
       "      <td>True</td>\n",
       "    </tr>\n",
       "    <tr>\n",
       "      <th>3</th>\n",
       "      <td>891689557279858688</td>\n",
       "      <td>8964</td>\n",
       "      <td>42908</td>\n",
       "      <td>2017-07-30 15:58:51</td>\n",
       "      <td>Twitter for iPhone</td>\n",
       "      <td>This is Darla. She commenced a snooze mid meal...</td>\n",
       "      <td>13.0</td>\n",
       "      <td>10.0</td>\n",
       "      <td>Darla</td>\n",
       "      <td>None</td>\n",
       "      <td>https://pbs.twimg.com/media/DF_q7IAWsAEuuN8.jpg</td>\n",
       "      <td>1</td>\n",
       "      <td>paper_towel</td>\n",
       "      <td>False</td>\n",
       "      <td>Labrador_retriever</td>\n",
       "      <td>True</td>\n",
       "      <td>spatula</td>\n",
       "      <td>False</td>\n",
       "    </tr>\n",
       "    <tr>\n",
       "      <th>4</th>\n",
       "      <td>891327558926688256</td>\n",
       "      <td>9774</td>\n",
       "      <td>41048</td>\n",
       "      <td>2017-07-29 16:00:24</td>\n",
       "      <td>Twitter for iPhone</td>\n",
       "      <td>This is Franklin. He would like you to stop ca...</td>\n",
       "      <td>12.0</td>\n",
       "      <td>10.0</td>\n",
       "      <td>Franklin</td>\n",
       "      <td>None</td>\n",
       "      <td>https://pbs.twimg.com/media/DF6hr6BUMAAzZgT.jpg</td>\n",
       "      <td>2</td>\n",
       "      <td>basset</td>\n",
       "      <td>True</td>\n",
       "      <td>English_springer</td>\n",
       "      <td>True</td>\n",
       "      <td>German_short-haired_pointer</td>\n",
       "      <td>True</td>\n",
       "    </tr>\n",
       "  </tbody>\n",
       "</table>\n",
       "</div>"
      ],
      "text/plain": [
       "             tweet_id  retweet_count  favorite_count           timestamp  \\\n",
       "0  892420643555336193           8853           39467 2017-08-01 16:23:56   \n",
       "1  892177421306343426           6514           33819 2017-08-01 00:17:27   \n",
       "2  891815181378084864           4328           25461 2017-07-31 00:18:03   \n",
       "3  891689557279858688           8964           42908 2017-07-30 15:58:51   \n",
       "4  891327558926688256           9774           41048 2017-07-29 16:00:24   \n",
       "\n",
       "               source                                               text  \\\n",
       "0  Twitter for iPhone  This is Phineas. He's a mystical boy. Only eve...   \n",
       "1  Twitter for iPhone  This is Tilly. She's just checking pup on you....   \n",
       "2  Twitter for iPhone  This is Archie. He is a rare Norwegian Pouncin...   \n",
       "3  Twitter for iPhone  This is Darla. She commenced a snooze mid meal...   \n",
       "4  Twitter for iPhone  This is Franklin. He would like you to stop ca...   \n",
       "\n",
       "   rating_numerator  rating_denominator      name dog_stages  \\\n",
       "0              13.0                10.0   Phineas       None   \n",
       "1              13.0                10.0     Tilly       None   \n",
       "2              12.0                10.0    Archie       None   \n",
       "3              13.0                10.0     Darla       None   \n",
       "4              12.0                10.0  Franklin       None   \n",
       "\n",
       "                                           jpg_url  img_num  Prediction1  \\\n",
       "0  https://pbs.twimg.com/media/DGKD1-bXoAAIAUK.jpg        1       orange   \n",
       "1  https://pbs.twimg.com/media/DGGmoV4XsAAUL6n.jpg        1    Chihuahua   \n",
       "2  https://pbs.twimg.com/media/DGBdLU1WsAANxJ9.jpg        1    Chihuahua   \n",
       "3  https://pbs.twimg.com/media/DF_q7IAWsAEuuN8.jpg        1  paper_towel   \n",
       "4  https://pbs.twimg.com/media/DF6hr6BUMAAzZgT.jpg        2       basset   \n",
       "\n",
       "   Prediction1_dog         Prediction2  Prediction2_dog  \\\n",
       "0            False               bagel            False   \n",
       "1             True            Pekinese             True   \n",
       "2             True            malamute             True   \n",
       "3            False  Labrador_retriever             True   \n",
       "4             True    English_springer             True   \n",
       "\n",
       "                   Prediction3  Prediction3_dog  \n",
       "0                       banana            False  \n",
       "1                     papillon             True  \n",
       "2                       kelpie             True  \n",
       "3                      spatula            False  \n",
       "4  German_short-haired_pointer             True  "
      ]
     },
     "execution_count": 69,
     "metadata": {},
     "output_type": "execute_result"
    }
   ],
   "source": [
    "twitter_archive_master.head()"
   ]
  },
  {
   "cell_type": "markdown",
   "metadata": {},
   "source": [
    "## Storing Data\n",
    "Save gathered, assessed, and cleaned master dataset to a CSV file named \"twitter_archive_master.csv\"."
   ]
  },
  {
   "cell_type": "code",
   "execution_count": 70,
   "metadata": {},
   "outputs": [],
   "source": [
    "twitter_archive_master.to_csv('twitter_archive_master.csv', encoding='utf-8', index=False)"
   ]
  },
  {
   "cell_type": "markdown",
   "metadata": {},
   "source": [
    "## Analyzing and Visualizing Data\n",
    "In this section, analyze and visualize your wrangled data. You must produce at least **three (3) insights and one (1) visualization.**"
   ]
  },
  {
   "cell_type": "code",
   "execution_count": 71,
   "metadata": {},
   "outputs": [
    {
     "name": "stdout",
     "output_type": "stream",
     "text": [
      "<class 'pandas.core.frame.DataFrame'>\n",
      "Int64Index: 1541 entries, 0 to 1540\n",
      "Data columns (total 18 columns):\n",
      "tweet_id              1541 non-null object\n",
      "retweet_count         1541 non-null int64\n",
      "favorite_count        1541 non-null int64\n",
      "timestamp             1541 non-null datetime64[ns]\n",
      "source                1541 non-null object\n",
      "text                  1541 non-null object\n",
      "rating_numerator      1541 non-null float64\n",
      "rating_denominator    1541 non-null float64\n",
      "name                  1541 non-null object\n",
      "dog_stages            1541 non-null object\n",
      "jpg_url               1541 non-null object\n",
      "img_num               1541 non-null int64\n",
      "Prediction1           1541 non-null object\n",
      "Prediction1_dog       1541 non-null bool\n",
      "Prediction2           1541 non-null object\n",
      "Prediction2_dog       1541 non-null bool\n",
      "Prediction3           1541 non-null object\n",
      "Prediction3_dog       1541 non-null bool\n",
      "dtypes: bool(3), datetime64[ns](1), float64(2), int64(3), object(9)\n",
      "memory usage: 197.1+ KB\n"
     ]
    }
   ],
   "source": [
    "twitter_archive_master.info()"
   ]
  },
  {
   "cell_type": "markdown",
   "metadata": {},
   "source": [
    "### Insights:\n",
    "1. Insight on the most popular dog name.\n",
    "\n",
    "2. Insight on the major twitter source\n",
    "\n",
    "3. Insight on the dog stages distribution\n",
    "\n",
    "4. Insight on whether the favorite_count has an effect on retweet_count i.e a correlation"
   ]
  },
  {
   "cell_type": "markdown",
   "metadata": {
    "collapsed": true
   },
   "source": [
    "### Visualization"
   ]
  },
  {
   "cell_type": "code",
   "execution_count": 72,
   "metadata": {},
   "outputs": [],
   "source": [
    "#Most popular dog name\n",
    "Dog_Names = twitter_archive_master.name.value_counts()[1:30]"
   ]
  },
  {
   "cell_type": "code",
   "execution_count": 73,
   "metadata": {},
   "outputs": [
    {
     "data": {
      "image/png": "[encoded data removed]",
      "text/plain": [
       "<matplotlib.figure.Figure at 0x7f861cb7fcf8>"
      ]
     },
     "metadata": {
      "needs_background": "light"
     },
     "output_type": "display_data"
    }
   ],
   "source": [
    "Dog_Names.plot(kind = 'bar', figsize = (10,8), color = 'red', title ='Dog Names')\n",
    "plt.xlabel('Name')\n",
    "plt.ylabel('Number of occurrence');"
   ]
  },
  {
   "cell_type": "markdown",
   "metadata": {},
   "source": [
    "According to the Visual, The most popular dog name is Charlie."
   ]
  },
  {
   "cell_type": "code",
   "execution_count": 74,
   "metadata": {},
   "outputs": [
    {
     "data": {
      "image/png": "[encoded data removed]",
      "text/plain": [
       "<matplotlib.figure.Figure at 0x7f861aa5a0f0>"
      ]
     },
     "metadata": {
      "needs_background": "light"
     },
     "output_type": "display_data"
    }
   ],
   "source": [
    "#major tweet source\n",
    "twitter_archive_master['source'].value_counts().plot(kind = 'bar', figsize = (6,6), title ='Tweet Source')\n",
    "plt.xlabel('Source')\n",
    "plt.ylabel('Number of occurrence');"
   ]
  },
  {
   "cell_type": "markdown",
   "metadata": {},
   "source": [
    "According to the Visual, Twitter for Iphone"
   ]
  },
  {
   "cell_type": "code",
   "execution_count": 75,
   "metadata": {},
   "outputs": [
    {
     "name": "stdout",
     "output_type": "stream",
     "text": [
      "<class 'pandas.core.frame.DataFrame'>\n",
      "Int64Index: 1541 entries, 0 to 1540\n",
      "Data columns (total 18 columns):\n",
      "tweet_id              1541 non-null object\n",
      "retweet_count         1541 non-null int64\n",
      "favorite_count        1541 non-null int64\n",
      "timestamp             1541 non-null datetime64[ns]\n",
      "source                1541 non-null object\n",
      "text                  1541 non-null object\n",
      "rating_numerator      1541 non-null float64\n",
      "rating_denominator    1541 non-null float64\n",
      "name                  1541 non-null object\n",
      "dog_stages            1541 non-null category\n",
      "jpg_url               1541 non-null object\n",
      "img_num               1541 non-null int64\n",
      "Prediction1           1541 non-null object\n",
      "Prediction1_dog       1541 non-null bool\n",
      "Prediction2           1541 non-null object\n",
      "Prediction2_dog       1541 non-null bool\n",
      "Prediction3           1541 non-null object\n",
      "Prediction3_dog       1541 non-null bool\n",
      "dtypes: bool(3), category(1), datetime64[ns](1), float64(2), int64(3), object(8)\n",
      "memory usage: 186.8+ KB\n"
     ]
    }
   ],
   "source": [
    "#The dog stage distribution\n",
    "twitter_archive_master['dog_stages'] = twitter_archive_master['dog_stages'].astype('category')\n",
    "twitter_archive_master.info()"
   ]
  },
  {
   "cell_type": "code",
   "execution_count": 76,
   "metadata": {},
   "outputs": [
    {
     "data": {
      "text/plain": [
       "dog_stages\n",
       "None       1283\n",
       "doggo        69\n",
       "floofer       7\n",
       "pupper      161\n",
       "puppo        21\n",
       "Name: tweet_id, dtype: int64"
      ]
     },
     "execution_count": 76,
     "metadata": {},
     "output_type": "execute_result"
    }
   ],
   "source": [
    "twitter_archive_master_stages = twitter_archive_master.groupby('dog_stages')['tweet_id'].count()\n",
    "twitter_archive_master_stages"
   ]
  },
  {
   "cell_type": "code",
   "execution_count": 77,
   "metadata": {},
   "outputs": [
    {
     "data": {
      "image/png": "[encoded data removed]",
      "text/plain": [
       "<matplotlib.figure.Figure at 0x7f861cb6ef60>"
      ]
     },
     "metadata": {},
     "output_type": "display_data"
    }
   ],
   "source": [
    "fig = plt.figure(figsize =(10, 7))\n",
    "plt.pie(twitter_archive_master_stages,labels=['None','doggo','floofer','pupper','puppo'])\n",
    "plt.title('Dog stage distribution');"
   ]
  },
  {
   "cell_type": "markdown",
   "metadata": {},
   "source": [
    "The Dog stage with the highest tweets is the Pupper stage."
   ]
  },
  {
   "cell_type": "code",
   "execution_count": 78,
   "metadata": {},
   "outputs": [
    {
     "data": {
      "image/png": "[encoded data removed]",
      "text/plain": [
       "<matplotlib.figure.Figure at 0x7f861cb7f668>"
      ]
     },
     "metadata": {
      "needs_background": "light"
     },
     "output_type": "display_data"
    }
   ],
   "source": [
    "#Insight on whether the favorite_count has an effect on retweet_count i.e a correlation\n",
    "plt.scatter(twitter_archive_master['favorite_count'],twitter_archive_master['retweet_count'])\n",
    "plt.title('Like and Retweet correlation')\n",
    "plt.xlabel('Likes')\n",
    "plt.ylabel('Retweet');"
   ]
  },
  {
   "cell_type": "markdown",
   "metadata": {},
   "source": [
    "The scatter plot shows a positive correlation between the number of likes and retweets."
   ]
  },
  {
   "cell_type": "code",
   "execution_count": 79,
   "metadata": {},
   "outputs": [
    {
     "data": {
      "text/plain": [
       "0.91084203308148481"
      ]
     },
     "execution_count": 79,
     "metadata": {},
     "output_type": "execute_result"
    }
   ],
   "source": [
    "twitter_archive_master['favorite_count'].corr(twitter_archive_master['retweet_count'])"
   ]
  },
  {
   "cell_type": "markdown",
   "metadata": {},
   "source": [
    "By this calculation, It shows it has a high positive correlation."
   ]
  },
  {
   "cell_type": "code",
   "execution_count": 80,
   "metadata": {},
   "outputs": [],
   "source": [
    "twitter_archive_master.to_csv('twitter_archive_master.csv', encoding='utf-8', index=False)"
   ]
  }
 ],
 "metadata": {
  "extensions": {
   "jupyter_dashboards": {
    "activeView": "report_default",
    "version": 1,
    "views": {
     "grid_default": {
      "cellMargin": 10,
      "defaultCellHeight": 20,
      "maxColumns": 12,
      "name": "grid",
      "type": "grid"
     },
     "report_default": {
      "name": "report",
      "type": "report"
     }
    }
   }
  },
  "kernelspec": {
   "display_name": "Python 3",
   "language": "python",
   "name": "python3"
  },
  "language_info": {
   "codemirror_mode": {
    "name": "ipython",
    "version": 3
   },
   "file_extension": ".py",
   "mimetype": "text/x-python",
   "name": "python",
   "nbconvert_exporter": "python",
   "pygments_lexer": "ipython3",
   "version": "3.6.3"
  }
 },
 "nbformat": 4,
 "nbformat_minor": 2
}
